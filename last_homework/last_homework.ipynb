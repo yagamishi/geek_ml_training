{
  "nbformat": 4,
  "nbformat_minor": 0,
  "metadata": {
    "colab": {
      "name": "“geek_bang_chap07.ipynb”的副本",
      "provenance": [],
      "collapsed_sections": [],
      "include_colab_link": true
    },
    "kernelspec": {
      "display_name": "Python 3",
      "name": "python3"
    }
  },
  "cells": [
    {
      "cell_type": "markdown",
      "metadata": {
        "id": "view-in-github",
        "colab_type": "text"
      },
      "source": [
        "<a href=\"https://colab.research.google.com/github/yagamishi/MathInCoding/blob/master/%E2%80%9Cgeek_bang_chap07_ipynb%E2%80%9D%E7%9A%84%E5%89%AF%E6%9C%AC.ipynb\" target=\"_parent\"><img src=\"https://colab.research.google.com/assets/colab-badge.svg\" alt=\"Open In Colab\"/></a>"
      ]
    },
    {
      "cell_type": "markdown",
      "metadata": {
        "id": "DjCilgClZfmR"
      },
      "source": [
        "# Lending Club\n",
        "---\n",
        "\n",
        "Here we document our experiment with lending club data set.\n"
      ]
    },
    {
      "cell_type": "code",
      "metadata": {
        "id": "w9mAYyNpeVu5"
      },
      "source": [
        "import numpy as np"
      ],
      "execution_count": null,
      "outputs": []
    },
    {
      "cell_type": "code",
      "metadata": {
        "colab": {
          "base_uri": "https://localhost:8080/"
        },
        "id": "TDRr3EO5Zn7x",
        "outputId": "a05382af-f81c-4b50-ab69-355234b13120"
      },
      "source": [
        "!wget https://storage.googleapis.com/open_data_file/final.zip"
      ],
      "execution_count": null,
      "outputs": [
        {
          "name": "stdout",
          "output_type": "stream",
          "text": [
            "--2021-08-20 05:12:47--  https://storage.googleapis.com/open_data_file/final.zip\n",
            "Resolving storage.googleapis.com (storage.googleapis.com)... 108.177.119.128, 108.177.126.128, 108.177.127.128, ...\n",
            "Connecting to storage.googleapis.com (storage.googleapis.com)|108.177.119.128|:443... connected.\n",
            "HTTP request sent, awaiting response... 403 Forbidden\n",
            "2021-08-20 05:12:47 ERROR 403: Forbidden.\n",
            "\n"
          ]
        }
      ]
    },
    {
      "cell_type": "code",
      "metadata": {
        "colab": {
          "base_uri": "https://localhost:8080/"
        },
        "id": "2kqGiwZlZwGc",
        "outputId": "a977b636-01e3-4bfd-eac8-75e284cac896"
      },
      "source": [
        "!ls"
      ],
      "execution_count": null,
      "outputs": [
        {
          "name": "stdout",
          "output_type": "stream",
          "text": [
            "sample_data\n"
          ]
        }
      ]
    },
    {
      "cell_type": "code",
      "metadata": {
        "colab": {
          "base_uri": "https://localhost:8080/"
        },
        "id": "xwZ0P0ejZys5",
        "outputId": "41926618-c28a-4047-f288-df594afa5b12"
      },
      "source": [
        "!unzip final.zip"
      ],
      "execution_count": null,
      "outputs": [
        {
          "name": "stdout",
          "output_type": "stream",
          "text": [
            "unzip:  cannot find or open final.zip, final.zip.zip or final.zip.ZIP.\n"
          ]
        }
      ]
    },
    {
      "cell_type": "code",
      "metadata": {
        "colab": {
          "base_uri": "https://localhost:8080/"
        },
        "id": "3kO1Bi8Z-no-",
        "outputId": "65ac26b6-877a-4116-b23e-424282ee75ea"
      },
      "source": [
        "import os\n",
        " \n",
        "print(os.getcwd())\n",
        " \n",
        " \n",
        "# 修改工作路径\n",
        "import os\n",
        "from google.colab import drive\n",
        "drive.mount('/content/gdrive')\n",
        "path = \"/content/gdrive/MyDrive/Colab \"+\"Notebooks/homework2\"\n",
        "os.chdir(path)\n"
      ],
      "execution_count": 11,
      "outputs": [
        {
          "output_type": "stream",
          "text": [
            "/content\n",
            "Go to this URL in a browser: https://accounts.google.com/o/oauth2/auth?client_id=947318989803-6bn6qk8qdgf4n4g3pfee6491hc0brc4i.apps.googleusercontent.com&redirect_uri=urn%3aietf%3awg%3aoauth%3a2.0%3aoob&scope=email%20https%3a%2f%2fwww.googleapis.com%2fauth%2fdocs.test%20https%3a%2f%2fwww.googleapis.com%2fauth%2fdrive%20https%3a%2f%2fwww.googleapis.com%2fauth%2fdrive.photos.readonly%20https%3a%2f%2fwww.googleapis.com%2fauth%2fpeopleapi.readonly%20https%3a%2f%2fwww.googleapis.com%2fauth%2fdrive.activity.readonly%20https%3a%2f%2fwww.googleapis.com%2fauth%2fexperimentsandconfigs%20https%3a%2f%2fwww.googleapis.com%2fauth%2fphotos.native&response_type=code\n",
            "\n",
            "Enter your authorization code:\n",
            "4/1AX4XfWgrrQ9ubIQCAsHGypbhmb1vGrD80G6Ob0VGJyZJHHQ2uFjnsR1OPdM\n",
            "Mounted at /content/gdrive\n"
          ],
          "name": "stdout"
        }
      ]
    },
    {
      "cell_type": "code",
      "metadata": {
        "id": "KKMlEA9oZ18Z"
      },
      "source": [
        "import pandas as pd\n",
        "train = pd.read_csv(path+\"/train_final.csv\", engine='python')\n",
        "test = pd.read_csv(path+\"/test_final.csv\", engine='python')"
      ],
      "execution_count": 12,
      "outputs": []
    },
    {
      "cell_type": "code",
      "metadata": {
        "colab": {
          "base_uri": "https://localhost:8080/"
        },
        "id": "6Bk2hYd2_wCX",
        "outputId": "b4ff9fa4-b266-4733-c6ce-a336e3610675"
      },
      "source": [
        "print(train.shape)\n",
        "test.shape"
      ],
      "execution_count": 13,
      "outputs": [
        {
          "output_type": "stream",
          "text": [
            "(50000, 146)\n"
          ],
          "name": "stdout"
        },
        {
          "output_type": "execute_result",
          "data": {
            "text/plain": [
              "(50000, 146)"
            ]
          },
          "metadata": {},
          "execution_count": 13
        }
      ]
    },
    {
      "cell_type": "code",
      "metadata": {
        "colab": {
          "base_uri": "https://localhost:8080/"
        },
        "id": "u8enl_O1aACN",
        "outputId": "2edc9874-bbbb-4805-9cc7-5ae1f0ef57d3"
      },
      "source": [
        "# 检查空值\n",
        "pd.isnull(train['loan_status']).sum()"
      ],
      "execution_count": 14,
      "outputs": [
        {
          "output_type": "execute_result",
          "data": {
            "text/plain": [
              "0"
            ]
          },
          "metadata": {},
          "execution_count": 14
        }
      ]
    },
    {
      "cell_type": "code",
      "metadata": {
        "colab": {
          "base_uri": "https://localhost:8080/"
        },
        "id": "7hBUA0qWaNBM",
        "outputId": "a775fd4e-9c40-4069-e2e6-e9afe416d3f6"
      },
      "source": [
        "# 检查训练集y值\n",
        "train['loan_status'].value_counts()"
      ],
      "execution_count": 15,
      "outputs": [
        {
          "output_type": "execute_result",
          "data": {
            "text/plain": [
              "1    39788\n",
              "0    10212\n",
              "Name: loan_status, dtype: int64"
            ]
          },
          "metadata": {},
          "execution_count": 15
        }
      ]
    },
    {
      "cell_type": "code",
      "metadata": {
        "colab": {
          "base_uri": "https://localhost:8080/"
        },
        "id": "WkIvmG1CDu17",
        "outputId": "67597621-b92e-468e-ba52-c1c5e85822f5"
      },
      "source": [
        "# 检查测试集y值\n",
        "test['loan_status'].value_counts()"
      ],
      "execution_count": 16,
      "outputs": [
        {
          "output_type": "execute_result",
          "data": {
            "text/plain": [
              "1    40226\n",
              "0     9774\n",
              "Name: loan_status, dtype: int64"
            ]
          },
          "metadata": {},
          "execution_count": 16
        }
      ]
    },
    {
      "cell_type": "code",
      "metadata": {
        "colab": {
          "base_uri": "https://localhost:8080/"
        },
        "id": "PUGcka7zD0mZ",
        "outputId": "2a0ed911-9c89-4d01-c8d4-d3a94ae8819e"
      },
      "source": [
        "# 列出continuous开头的列字段\n",
        "[x for x in train.columns.to_list() if x.startswith('continuous')]"
      ],
      "execution_count": 17,
      "outputs": [
        {
          "output_type": "execute_result",
          "data": {
            "text/plain": [
              "['continuous_annual_inc',\n",
              " 'continuous_annual_inc_joint',\n",
              " 'continuous_delinq_2yrs',\n",
              " 'continuous_dti',\n",
              " 'continuous_dti_joint',\n",
              " 'continuous_fico_range_high',\n",
              " 'continuous_fico_range_low',\n",
              " 'continuous_funded_amnt',\n",
              " 'continuous_funded_amnt_inv',\n",
              " 'continuous_inq_last_6mths',\n",
              " 'continuous_installment',\n",
              " 'continuous_int_rate',\n",
              " 'continuous_last_fico_range_high',\n",
              " 'continuous_last_fico_range_low',\n",
              " 'continuous_loan_amnt',\n",
              " 'continuous_mths_since_last_delinq',\n",
              " 'continuous_mths_since_last_major_derog',\n",
              " 'continuous_mths_since_last_record',\n",
              " 'continuous_open_acc',\n",
              " 'continuous_pub_rec']"
            ]
          },
          "metadata": {},
          "execution_count": 17
        }
      ]
    },
    {
      "cell_type": "code",
      "metadata": {
        "colab": {
          "base_uri": "https://localhost:8080/"
        },
        "id": "DGMHTAd-EKU9",
        "outputId": "766e7d02-473a-4508-cf2a-4ad8530a0659"
      },
      "source": [
        "# 看分位数\n",
        "train['continuous_funded_amnt'].describe()"
      ],
      "execution_count": 18,
      "outputs": [
        {
          "output_type": "execute_result",
          "data": {
            "text/plain": [
              "count    50000.00000\n",
              "mean     14332.53650\n",
              "std       8617.58487\n",
              "min       1000.00000\n",
              "25%       7775.00000\n",
              "50%      12000.00000\n",
              "75%      20000.00000\n",
              "max      35000.00000\n",
              "Name: continuous_funded_amnt, dtype: float64"
            ]
          },
          "metadata": {},
          "execution_count": 18
        }
      ]
    },
    {
      "cell_type": "code",
      "metadata": {
        "colab": {
          "base_uri": "https://localhost:8080/"
        },
        "id": "ejYBhd_pEVMd",
        "outputId": "83e46cdb-f14b-494b-f034-aa4cc1186912"
      },
      "source": [
        "# 查看更细的分位数,可以看到35%和40%是一样的，那就有可能有衍生变量\n",
        "train['continuous_funded_amnt'].describe(percentiles=np.arange(0, 1, 0.05))"
      ],
      "execution_count": 19,
      "outputs": [
        {
          "output_type": "execute_result",
          "data": {
            "text/plain": [
              "count    50000.00000\n",
              "mean     14332.53650\n",
              "std       8617.58487\n",
              "min       1000.00000\n",
              "0%        1000.00000\n",
              "5%        3000.00000\n",
              "10%       4800.00000\n",
              "15%       5500.00000\n",
              "20%       6300.00000\n",
              "25%       7775.00000\n",
              "30%       8500.00000\n",
              "35%      10000.00000\n",
              "40%      10000.00000\n",
              "45%      11600.00000\n",
              "50%      12000.00000\n",
              "55%      14000.00000\n",
              "60%      15000.00000\n",
              "65%      16000.00000\n",
              "70%      18000.00000\n",
              "75%      20000.00000\n",
              "80%      21000.00000\n",
              "85%      24000.00000\n",
              "90%      28000.00000\n",
              "95%      32000.00000\n",
              "max      35000.00000\n",
              "Name: continuous_funded_amnt, dtype: float64"
            ]
          },
          "metadata": {},
          "execution_count": 19
        }
      ]
    },
    {
      "cell_type": "code",
      "metadata": {
        "colab": {
          "base_uri": "https://localhost:8080/"
        },
        "id": "ogYMCOBfFp9q",
        "outputId": "70d4e6b8-19ae-4733-c591-70844adfb69e"
      },
      "source": [
        "pd.isnull(train['continuous_funded_amnt']).sum()"
      ],
      "execution_count": 20,
      "outputs": [
        {
          "output_type": "execute_result",
          "data": {
            "text/plain": [
              "0"
            ]
          },
          "metadata": {},
          "execution_count": 20
        }
      ]
    },
    {
      "cell_type": "code",
      "metadata": {
        "colab": {
          "base_uri": "https://localhost:8080/",
          "height": 174
        },
        "id": "xufqQcBdfEi3",
        "outputId": "621a7284-0f80-4601-d059-6bd563dce966"
      },
      "source": [
        "# 查看continuous_loan_amnt和y值是不是有关系\n",
        "train[['loan_status', 'continuous_funded_amnt']].groupby('loan_status').describe(percentiles=np.arange(0, 1, 0.1))"
      ],
      "execution_count": 21,
      "outputs": [
        {
          "output_type": "execute_result",
          "data": {
            "text/html": [
              "<div>\n",
              "<style scoped>\n",
              "    .dataframe tbody tr th:only-of-type {\n",
              "        vertical-align: middle;\n",
              "    }\n",
              "\n",
              "    .dataframe tbody tr th {\n",
              "        vertical-align: top;\n",
              "    }\n",
              "\n",
              "    .dataframe thead tr th {\n",
              "        text-align: left;\n",
              "    }\n",
              "\n",
              "    .dataframe thead tr:last-of-type th {\n",
              "        text-align: right;\n",
              "    }\n",
              "</style>\n",
              "<table border=\"1\" class=\"dataframe\">\n",
              "  <thead>\n",
              "    <tr>\n",
              "      <th></th>\n",
              "      <th colspan=\"15\" halign=\"left\">continuous_funded_amnt</th>\n",
              "    </tr>\n",
              "    <tr>\n",
              "      <th></th>\n",
              "      <th>count</th>\n",
              "      <th>mean</th>\n",
              "      <th>std</th>\n",
              "      <th>min</th>\n",
              "      <th>0%</th>\n",
              "      <th>10%</th>\n",
              "      <th>20%</th>\n",
              "      <th>30%</th>\n",
              "      <th>40%</th>\n",
              "      <th>50%</th>\n",
              "      <th>60%</th>\n",
              "      <th>70%</th>\n",
              "      <th>80%</th>\n",
              "      <th>90%</th>\n",
              "      <th>max</th>\n",
              "    </tr>\n",
              "    <tr>\n",
              "      <th>loan_status</th>\n",
              "      <th></th>\n",
              "      <th></th>\n",
              "      <th></th>\n",
              "      <th></th>\n",
              "      <th></th>\n",
              "      <th></th>\n",
              "      <th></th>\n",
              "      <th></th>\n",
              "      <th></th>\n",
              "      <th></th>\n",
              "      <th></th>\n",
              "      <th></th>\n",
              "      <th></th>\n",
              "      <th></th>\n",
              "      <th></th>\n",
              "    </tr>\n",
              "  </thead>\n",
              "  <tbody>\n",
              "    <tr>\n",
              "      <th>0</th>\n",
              "      <td>10212.0</td>\n",
              "      <td>15622.400118</td>\n",
              "      <td>8628.850608</td>\n",
              "      <td>1000.0</td>\n",
              "      <td>1000.0</td>\n",
              "      <td>5000.0</td>\n",
              "      <td>8000.0</td>\n",
              "      <td>10000.0</td>\n",
              "      <td>12000.0</td>\n",
              "      <td>14950.0</td>\n",
              "      <td>16190.0</td>\n",
              "      <td>20000.0</td>\n",
              "      <td>23925.0</td>\n",
              "      <td>28000.0</td>\n",
              "      <td>35000.0</td>\n",
              "    </tr>\n",
              "    <tr>\n",
              "      <th>1</th>\n",
              "      <td>39788.0</td>\n",
              "      <td>14001.479718</td>\n",
              "      <td>8583.597232</td>\n",
              "      <td>1000.0</td>\n",
              "      <td>1000.0</td>\n",
              "      <td>4775.0</td>\n",
              "      <td>6000.0</td>\n",
              "      <td>8000.0</td>\n",
              "      <td>10000.0</td>\n",
              "      <td>12000.0</td>\n",
              "      <td>15000.0</td>\n",
              "      <td>18000.0</td>\n",
              "      <td>21000.0</td>\n",
              "      <td>27200.0</td>\n",
              "      <td>35000.0</td>\n",
              "    </tr>\n",
              "  </tbody>\n",
              "</table>\n",
              "</div>"
            ],
            "text/plain": [
              "            continuous_funded_amnt                ...                  \n",
              "                             count          mean  ...      90%      max\n",
              "loan_status                                       ...                  \n",
              "0                          10212.0  15622.400118  ...  28000.0  35000.0\n",
              "1                          39788.0  14001.479718  ...  27200.0  35000.0\n",
              "\n",
              "[2 rows x 15 columns]"
            ]
          },
          "metadata": {},
          "execution_count": 21
        }
      ]
    },
    {
      "cell_type": "code",
      "metadata": {
        "id": "D8pCHhkygks8"
      },
      "source": [
        "# 前面说的10000特别特殊,现在开始检验。生成新变量\n",
        "train['discrete_is_loan_10000'] = (train['continuous_funded_amnt']==10000).astype(np.int64)"
      ],
      "execution_count": 22,
      "outputs": []
    },
    {
      "cell_type": "code",
      "metadata": {
        "colab": {
          "base_uri": "https://localhost:8080/"
        },
        "id": "he8ZPjuAhHCX",
        "outputId": "3bcce13c-0eb7-4de6-a381-38fc5fb45dbf"
      },
      "source": [
        "train['discrete_is_loan_10000'].value_counts()"
      ],
      "execution_count": 23,
      "outputs": [
        {
          "output_type": "execute_result",
          "data": {
            "text/plain": [
              "0    46323\n",
              "1     3677\n",
              "Name: discrete_is_loan_10000, dtype: int64"
            ]
          },
          "metadata": {},
          "execution_count": 23
        }
      ]
    },
    {
      "cell_type": "code",
      "metadata": {
        "colab": {
          "base_uri": "https://localhost:8080/",
          "height": 144
        },
        "id": "IbItfNfYhVGf",
        "outputId": "2e9ff934-f55d-44f8-976c-ef3177346420"
      },
      "source": [
        "# 离散数据用列联表，借款10000的违约的比较大。0--》1:4，1--〉1：5。loan_status：0是违约，1是不违约\n",
        "pd.crosstab(train['discrete_is_loan_10000'],train['loan_status'])"
      ],
      "execution_count": 24,
      "outputs": [
        {
          "output_type": "execute_result",
          "data": {
            "text/html": [
              "<div>\n",
              "<style scoped>\n",
              "    .dataframe tbody tr th:only-of-type {\n",
              "        vertical-align: middle;\n",
              "    }\n",
              "\n",
              "    .dataframe tbody tr th {\n",
              "        vertical-align: top;\n",
              "    }\n",
              "\n",
              "    .dataframe thead th {\n",
              "        text-align: right;\n",
              "    }\n",
              "</style>\n",
              "<table border=\"1\" class=\"dataframe\">\n",
              "  <thead>\n",
              "    <tr style=\"text-align: right;\">\n",
              "      <th>loan_status</th>\n",
              "      <th>0</th>\n",
              "      <th>1</th>\n",
              "    </tr>\n",
              "    <tr>\n",
              "      <th>discrete_is_loan_10000</th>\n",
              "      <th></th>\n",
              "      <th></th>\n",
              "    </tr>\n",
              "  </thead>\n",
              "  <tbody>\n",
              "    <tr>\n",
              "      <th>0</th>\n",
              "      <td>9590</td>\n",
              "      <td>36733</td>\n",
              "    </tr>\n",
              "    <tr>\n",
              "      <th>1</th>\n",
              "      <td>622</td>\n",
              "      <td>3055</td>\n",
              "    </tr>\n",
              "  </tbody>\n",
              "</table>\n",
              "</div>"
            ],
            "text/plain": [
              "loan_status                0      1\n",
              "discrete_is_loan_10000             \n",
              "0                       9590  36733\n",
              "1                        622   3055"
            ]
          },
          "metadata": {},
          "execution_count": 24
        }
      ]
    },
    {
      "cell_type": "code",
      "metadata": {
        "id": "HQnrqoyIjCcq"
      },
      "source": [
        "# 下面开始baseline了\n",
        "# 这个命令是shuffle\n",
        "train_new = train.sample(frac=1)"
      ],
      "execution_count": 25,
      "outputs": []
    },
    {
      "cell_type": "code",
      "metadata": {
        "colab": {
          "base_uri": "https://localhost:8080/",
          "height": 256
        },
        "id": "_94kYP93j3MC",
        "outputId": "28dc7d2e-8803-4f7d-e33f-10d52754eed3"
      },
      "source": [
        "# 查看shuffle是否成功\n",
        "train.head()"
      ],
      "execution_count": 26,
      "outputs": [
        {
          "output_type": "execute_result",
          "data": {
            "text/html": [
              "<div>\n",
              "<style scoped>\n",
              "    .dataframe tbody tr th:only-of-type {\n",
              "        vertical-align: middle;\n",
              "    }\n",
              "\n",
              "    .dataframe tbody tr th {\n",
              "        vertical-align: top;\n",
              "    }\n",
              "\n",
              "    .dataframe thead th {\n",
              "        text-align: right;\n",
              "    }\n",
              "</style>\n",
              "<table border=\"1\" class=\"dataframe\">\n",
              "  <thead>\n",
              "    <tr style=\"text-align: right;\">\n",
              "      <th></th>\n",
              "      <th>continuous_annual_inc</th>\n",
              "      <th>continuous_annual_inc_joint</th>\n",
              "      <th>continuous_delinq_2yrs</th>\n",
              "      <th>continuous_dti</th>\n",
              "      <th>continuous_dti_joint</th>\n",
              "      <th>continuous_fico_range_high</th>\n",
              "      <th>continuous_fico_range_low</th>\n",
              "      <th>continuous_funded_amnt</th>\n",
              "      <th>continuous_funded_amnt_inv</th>\n",
              "      <th>continuous_inq_last_6mths</th>\n",
              "      <th>continuous_installment</th>\n",
              "      <th>continuous_int_rate</th>\n",
              "      <th>continuous_last_fico_range_high</th>\n",
              "      <th>continuous_last_fico_range_low</th>\n",
              "      <th>continuous_loan_amnt</th>\n",
              "      <th>loan_status</th>\n",
              "      <th>continuous_mths_since_last_delinq</th>\n",
              "      <th>continuous_mths_since_last_major_derog</th>\n",
              "      <th>continuous_mths_since_last_record</th>\n",
              "      <th>continuous_open_acc</th>\n",
              "      <th>continuous_pub_rec</th>\n",
              "      <th>discrete_addr_state_1_one_hot</th>\n",
              "      <th>discrete_addr_state_2_one_hot</th>\n",
              "      <th>discrete_addr_state_3_one_hot</th>\n",
              "      <th>discrete_addr_state_4_one_hot</th>\n",
              "      <th>discrete_addr_state_5_one_hot</th>\n",
              "      <th>discrete_addr_state_6_one_hot</th>\n",
              "      <th>discrete_addr_state_7_one_hot</th>\n",
              "      <th>discrete_addr_state_8_one_hot</th>\n",
              "      <th>discrete_addr_state_9_one_hot</th>\n",
              "      <th>discrete_addr_state_10_one_hot</th>\n",
              "      <th>discrete_addr_state_11_one_hot</th>\n",
              "      <th>discrete_addr_state_12_one_hot</th>\n",
              "      <th>discrete_addr_state_13_one_hot</th>\n",
              "      <th>discrete_addr_state_14_one_hot</th>\n",
              "      <th>discrete_addr_state_15_one_hot</th>\n",
              "      <th>discrete_addr_state_16_one_hot</th>\n",
              "      <th>discrete_addr_state_17_one_hot</th>\n",
              "      <th>discrete_addr_state_18_one_hot</th>\n",
              "      <th>discrete_addr_state_19_one_hot</th>\n",
              "      <th>...</th>\n",
              "      <th>discrete_purpose_12_one_hot</th>\n",
              "      <th>discrete_pymnt_plan_1_one_hot</th>\n",
              "      <th>discrete_sub_grade_1_one_hot</th>\n",
              "      <th>discrete_sub_grade_2_one_hot</th>\n",
              "      <th>discrete_sub_grade_3_one_hot</th>\n",
              "      <th>discrete_sub_grade_4_one_hot</th>\n",
              "      <th>discrete_sub_grade_5_one_hot</th>\n",
              "      <th>discrete_sub_grade_6_one_hot</th>\n",
              "      <th>discrete_sub_grade_7_one_hot</th>\n",
              "      <th>discrete_sub_grade_8_one_hot</th>\n",
              "      <th>discrete_sub_grade_9_one_hot</th>\n",
              "      <th>discrete_sub_grade_10_one_hot</th>\n",
              "      <th>discrete_sub_grade_11_one_hot</th>\n",
              "      <th>discrete_sub_grade_12_one_hot</th>\n",
              "      <th>discrete_sub_grade_13_one_hot</th>\n",
              "      <th>discrete_sub_grade_14_one_hot</th>\n",
              "      <th>discrete_sub_grade_15_one_hot</th>\n",
              "      <th>discrete_sub_grade_16_one_hot</th>\n",
              "      <th>discrete_sub_grade_17_one_hot</th>\n",
              "      <th>discrete_sub_grade_18_one_hot</th>\n",
              "      <th>discrete_sub_grade_19_one_hot</th>\n",
              "      <th>discrete_sub_grade_20_one_hot</th>\n",
              "      <th>discrete_sub_grade_21_one_hot</th>\n",
              "      <th>discrete_sub_grade_22_one_hot</th>\n",
              "      <th>discrete_sub_grade_23_one_hot</th>\n",
              "      <th>discrete_sub_grade_24_one_hot</th>\n",
              "      <th>discrete_sub_grade_25_one_hot</th>\n",
              "      <th>discrete_sub_grade_26_one_hot</th>\n",
              "      <th>discrete_sub_grade_27_one_hot</th>\n",
              "      <th>discrete_sub_grade_28_one_hot</th>\n",
              "      <th>discrete_sub_grade_29_one_hot</th>\n",
              "      <th>discrete_sub_grade_30_one_hot</th>\n",
              "      <th>discrete_sub_grade_31_one_hot</th>\n",
              "      <th>discrete_sub_grade_32_one_hot</th>\n",
              "      <th>discrete_sub_grade_33_one_hot</th>\n",
              "      <th>discrete_sub_grade_34_one_hot</th>\n",
              "      <th>discrete_sub_grade_35_one_hot</th>\n",
              "      <th>discrete_term_1_one_hot</th>\n",
              "      <th>discrete_term_2_one_hot</th>\n",
              "      <th>discrete_is_loan_10000</th>\n",
              "    </tr>\n",
              "  </thead>\n",
              "  <tbody>\n",
              "    <tr>\n",
              "      <th>0</th>\n",
              "      <td>55000.0</td>\n",
              "      <td>NaN</td>\n",
              "      <td>0.0</td>\n",
              "      <td>5.91</td>\n",
              "      <td>NaN</td>\n",
              "      <td>679.0</td>\n",
              "      <td>675.0</td>\n",
              "      <td>3600.0</td>\n",
              "      <td>3600.0</td>\n",
              "      <td>1.0</td>\n",
              "      <td>123.03</td>\n",
              "      <td>13.99</td>\n",
              "      <td>564.0</td>\n",
              "      <td>560.0</td>\n",
              "      <td>3600.0</td>\n",
              "      <td>1</td>\n",
              "      <td>30.0</td>\n",
              "      <td>30.0</td>\n",
              "      <td>NaN</td>\n",
              "      <td>7.0</td>\n",
              "      <td>0.0</td>\n",
              "      <td>1</td>\n",
              "      <td>0</td>\n",
              "      <td>0</td>\n",
              "      <td>0</td>\n",
              "      <td>0</td>\n",
              "      <td>0</td>\n",
              "      <td>0</td>\n",
              "      <td>0</td>\n",
              "      <td>0</td>\n",
              "      <td>0</td>\n",
              "      <td>0</td>\n",
              "      <td>0</td>\n",
              "      <td>0</td>\n",
              "      <td>0</td>\n",
              "      <td>0</td>\n",
              "      <td>0</td>\n",
              "      <td>0</td>\n",
              "      <td>0</td>\n",
              "      <td>0</td>\n",
              "      <td>...</td>\n",
              "      <td>0</td>\n",
              "      <td>1</td>\n",
              "      <td>1</td>\n",
              "      <td>0</td>\n",
              "      <td>0</td>\n",
              "      <td>0</td>\n",
              "      <td>0</td>\n",
              "      <td>0</td>\n",
              "      <td>0</td>\n",
              "      <td>0</td>\n",
              "      <td>0</td>\n",
              "      <td>0</td>\n",
              "      <td>0</td>\n",
              "      <td>0</td>\n",
              "      <td>0</td>\n",
              "      <td>0</td>\n",
              "      <td>0</td>\n",
              "      <td>0</td>\n",
              "      <td>0</td>\n",
              "      <td>0</td>\n",
              "      <td>0</td>\n",
              "      <td>0</td>\n",
              "      <td>0</td>\n",
              "      <td>0</td>\n",
              "      <td>0</td>\n",
              "      <td>0</td>\n",
              "      <td>0</td>\n",
              "      <td>0</td>\n",
              "      <td>0</td>\n",
              "      <td>0</td>\n",
              "      <td>0</td>\n",
              "      <td>0</td>\n",
              "      <td>0</td>\n",
              "      <td>0</td>\n",
              "      <td>0</td>\n",
              "      <td>0</td>\n",
              "      <td>0</td>\n",
              "      <td>1</td>\n",
              "      <td>0</td>\n",
              "      <td>0</td>\n",
              "    </tr>\n",
              "    <tr>\n",
              "      <th>1</th>\n",
              "      <td>65000.0</td>\n",
              "      <td>NaN</td>\n",
              "      <td>1.0</td>\n",
              "      <td>16.06</td>\n",
              "      <td>NaN</td>\n",
              "      <td>719.0</td>\n",
              "      <td>715.0</td>\n",
              "      <td>24700.0</td>\n",
              "      <td>24700.0</td>\n",
              "      <td>4.0</td>\n",
              "      <td>820.28</td>\n",
              "      <td>11.99</td>\n",
              "      <td>699.0</td>\n",
              "      <td>695.0</td>\n",
              "      <td>24700.0</td>\n",
              "      <td>1</td>\n",
              "      <td>6.0</td>\n",
              "      <td>NaN</td>\n",
              "      <td>NaN</td>\n",
              "      <td>22.0</td>\n",
              "      <td>0.0</td>\n",
              "      <td>0</td>\n",
              "      <td>1</td>\n",
              "      <td>0</td>\n",
              "      <td>0</td>\n",
              "      <td>0</td>\n",
              "      <td>0</td>\n",
              "      <td>0</td>\n",
              "      <td>0</td>\n",
              "      <td>0</td>\n",
              "      <td>0</td>\n",
              "      <td>0</td>\n",
              "      <td>0</td>\n",
              "      <td>0</td>\n",
              "      <td>0</td>\n",
              "      <td>0</td>\n",
              "      <td>0</td>\n",
              "      <td>0</td>\n",
              "      <td>0</td>\n",
              "      <td>0</td>\n",
              "      <td>...</td>\n",
              "      <td>0</td>\n",
              "      <td>1</td>\n",
              "      <td>0</td>\n",
              "      <td>1</td>\n",
              "      <td>0</td>\n",
              "      <td>0</td>\n",
              "      <td>0</td>\n",
              "      <td>0</td>\n",
              "      <td>0</td>\n",
              "      <td>0</td>\n",
              "      <td>0</td>\n",
              "      <td>0</td>\n",
              "      <td>0</td>\n",
              "      <td>0</td>\n",
              "      <td>0</td>\n",
              "      <td>0</td>\n",
              "      <td>0</td>\n",
              "      <td>0</td>\n",
              "      <td>0</td>\n",
              "      <td>0</td>\n",
              "      <td>0</td>\n",
              "      <td>0</td>\n",
              "      <td>0</td>\n",
              "      <td>0</td>\n",
              "      <td>0</td>\n",
              "      <td>0</td>\n",
              "      <td>0</td>\n",
              "      <td>0</td>\n",
              "      <td>0</td>\n",
              "      <td>0</td>\n",
              "      <td>0</td>\n",
              "      <td>0</td>\n",
              "      <td>0</td>\n",
              "      <td>0</td>\n",
              "      <td>0</td>\n",
              "      <td>0</td>\n",
              "      <td>0</td>\n",
              "      <td>1</td>\n",
              "      <td>0</td>\n",
              "      <td>0</td>\n",
              "    </tr>\n",
              "    <tr>\n",
              "      <th>2</th>\n",
              "      <td>63000.0</td>\n",
              "      <td>71000.0</td>\n",
              "      <td>0.0</td>\n",
              "      <td>10.78</td>\n",
              "      <td>13.85</td>\n",
              "      <td>699.0</td>\n",
              "      <td>695.0</td>\n",
              "      <td>20000.0</td>\n",
              "      <td>20000.0</td>\n",
              "      <td>0.0</td>\n",
              "      <td>432.66</td>\n",
              "      <td>10.78</td>\n",
              "      <td>704.0</td>\n",
              "      <td>700.0</td>\n",
              "      <td>20000.0</td>\n",
              "      <td>1</td>\n",
              "      <td>NaN</td>\n",
              "      <td>NaN</td>\n",
              "      <td>NaN</td>\n",
              "      <td>6.0</td>\n",
              "      <td>0.0</td>\n",
              "      <td>0</td>\n",
              "      <td>0</td>\n",
              "      <td>1</td>\n",
              "      <td>0</td>\n",
              "      <td>0</td>\n",
              "      <td>0</td>\n",
              "      <td>0</td>\n",
              "      <td>0</td>\n",
              "      <td>0</td>\n",
              "      <td>0</td>\n",
              "      <td>0</td>\n",
              "      <td>0</td>\n",
              "      <td>0</td>\n",
              "      <td>0</td>\n",
              "      <td>0</td>\n",
              "      <td>0</td>\n",
              "      <td>0</td>\n",
              "      <td>0</td>\n",
              "      <td>0</td>\n",
              "      <td>...</td>\n",
              "      <td>0</td>\n",
              "      <td>1</td>\n",
              "      <td>0</td>\n",
              "      <td>0</td>\n",
              "      <td>1</td>\n",
              "      <td>0</td>\n",
              "      <td>0</td>\n",
              "      <td>0</td>\n",
              "      <td>0</td>\n",
              "      <td>0</td>\n",
              "      <td>0</td>\n",
              "      <td>0</td>\n",
              "      <td>0</td>\n",
              "      <td>0</td>\n",
              "      <td>0</td>\n",
              "      <td>0</td>\n",
              "      <td>0</td>\n",
              "      <td>0</td>\n",
              "      <td>0</td>\n",
              "      <td>0</td>\n",
              "      <td>0</td>\n",
              "      <td>0</td>\n",
              "      <td>0</td>\n",
              "      <td>0</td>\n",
              "      <td>0</td>\n",
              "      <td>0</td>\n",
              "      <td>0</td>\n",
              "      <td>0</td>\n",
              "      <td>0</td>\n",
              "      <td>0</td>\n",
              "      <td>0</td>\n",
              "      <td>0</td>\n",
              "      <td>0</td>\n",
              "      <td>0</td>\n",
              "      <td>0</td>\n",
              "      <td>0</td>\n",
              "      <td>0</td>\n",
              "      <td>0</td>\n",
              "      <td>1</td>\n",
              "      <td>0</td>\n",
              "    </tr>\n",
              "    <tr>\n",
              "      <th>3</th>\n",
              "      <td>104433.0</td>\n",
              "      <td>NaN</td>\n",
              "      <td>1.0</td>\n",
              "      <td>25.37</td>\n",
              "      <td>NaN</td>\n",
              "      <td>699.0</td>\n",
              "      <td>695.0</td>\n",
              "      <td>10400.0</td>\n",
              "      <td>10400.0</td>\n",
              "      <td>3.0</td>\n",
              "      <td>289.91</td>\n",
              "      <td>22.45</td>\n",
              "      <td>704.0</td>\n",
              "      <td>700.0</td>\n",
              "      <td>10400.0</td>\n",
              "      <td>1</td>\n",
              "      <td>12.0</td>\n",
              "      <td>NaN</td>\n",
              "      <td>NaN</td>\n",
              "      <td>12.0</td>\n",
              "      <td>0.0</td>\n",
              "      <td>1</td>\n",
              "      <td>0</td>\n",
              "      <td>0</td>\n",
              "      <td>0</td>\n",
              "      <td>0</td>\n",
              "      <td>0</td>\n",
              "      <td>0</td>\n",
              "      <td>0</td>\n",
              "      <td>0</td>\n",
              "      <td>0</td>\n",
              "      <td>0</td>\n",
              "      <td>0</td>\n",
              "      <td>0</td>\n",
              "      <td>0</td>\n",
              "      <td>0</td>\n",
              "      <td>0</td>\n",
              "      <td>0</td>\n",
              "      <td>0</td>\n",
              "      <td>0</td>\n",
              "      <td>...</td>\n",
              "      <td>0</td>\n",
              "      <td>1</td>\n",
              "      <td>0</td>\n",
              "      <td>0</td>\n",
              "      <td>0</td>\n",
              "      <td>1</td>\n",
              "      <td>0</td>\n",
              "      <td>0</td>\n",
              "      <td>0</td>\n",
              "      <td>0</td>\n",
              "      <td>0</td>\n",
              "      <td>0</td>\n",
              "      <td>0</td>\n",
              "      <td>0</td>\n",
              "      <td>0</td>\n",
              "      <td>0</td>\n",
              "      <td>0</td>\n",
              "      <td>0</td>\n",
              "      <td>0</td>\n",
              "      <td>0</td>\n",
              "      <td>0</td>\n",
              "      <td>0</td>\n",
              "      <td>0</td>\n",
              "      <td>0</td>\n",
              "      <td>0</td>\n",
              "      <td>0</td>\n",
              "      <td>0</td>\n",
              "      <td>0</td>\n",
              "      <td>0</td>\n",
              "      <td>0</td>\n",
              "      <td>0</td>\n",
              "      <td>0</td>\n",
              "      <td>0</td>\n",
              "      <td>0</td>\n",
              "      <td>0</td>\n",
              "      <td>0</td>\n",
              "      <td>0</td>\n",
              "      <td>0</td>\n",
              "      <td>1</td>\n",
              "      <td>0</td>\n",
              "    </tr>\n",
              "    <tr>\n",
              "      <th>4</th>\n",
              "      <td>34000.0</td>\n",
              "      <td>NaN</td>\n",
              "      <td>0.0</td>\n",
              "      <td>10.20</td>\n",
              "      <td>NaN</td>\n",
              "      <td>694.0</td>\n",
              "      <td>690.0</td>\n",
              "      <td>11950.0</td>\n",
              "      <td>11950.0</td>\n",
              "      <td>0.0</td>\n",
              "      <td>405.18</td>\n",
              "      <td>13.44</td>\n",
              "      <td>759.0</td>\n",
              "      <td>755.0</td>\n",
              "      <td>11950.0</td>\n",
              "      <td>1</td>\n",
              "      <td>NaN</td>\n",
              "      <td>NaN</td>\n",
              "      <td>NaN</td>\n",
              "      <td>5.0</td>\n",
              "      <td>0.0</td>\n",
              "      <td>0</td>\n",
              "      <td>0</td>\n",
              "      <td>0</td>\n",
              "      <td>1</td>\n",
              "      <td>0</td>\n",
              "      <td>0</td>\n",
              "      <td>0</td>\n",
              "      <td>0</td>\n",
              "      <td>0</td>\n",
              "      <td>0</td>\n",
              "      <td>0</td>\n",
              "      <td>0</td>\n",
              "      <td>0</td>\n",
              "      <td>0</td>\n",
              "      <td>0</td>\n",
              "      <td>0</td>\n",
              "      <td>0</td>\n",
              "      <td>0</td>\n",
              "      <td>0</td>\n",
              "      <td>...</td>\n",
              "      <td>0</td>\n",
              "      <td>1</td>\n",
              "      <td>0</td>\n",
              "      <td>0</td>\n",
              "      <td>0</td>\n",
              "      <td>0</td>\n",
              "      <td>1</td>\n",
              "      <td>0</td>\n",
              "      <td>0</td>\n",
              "      <td>0</td>\n",
              "      <td>0</td>\n",
              "      <td>0</td>\n",
              "      <td>0</td>\n",
              "      <td>0</td>\n",
              "      <td>0</td>\n",
              "      <td>0</td>\n",
              "      <td>0</td>\n",
              "      <td>0</td>\n",
              "      <td>0</td>\n",
              "      <td>0</td>\n",
              "      <td>0</td>\n",
              "      <td>0</td>\n",
              "      <td>0</td>\n",
              "      <td>0</td>\n",
              "      <td>0</td>\n",
              "      <td>0</td>\n",
              "      <td>0</td>\n",
              "      <td>0</td>\n",
              "      <td>0</td>\n",
              "      <td>0</td>\n",
              "      <td>0</td>\n",
              "      <td>0</td>\n",
              "      <td>0</td>\n",
              "      <td>0</td>\n",
              "      <td>0</td>\n",
              "      <td>0</td>\n",
              "      <td>0</td>\n",
              "      <td>1</td>\n",
              "      <td>0</td>\n",
              "      <td>0</td>\n",
              "    </tr>\n",
              "  </tbody>\n",
              "</table>\n",
              "<p>5 rows × 147 columns</p>\n",
              "</div>"
            ],
            "text/plain": [
              "   continuous_annual_inc  ...  discrete_is_loan_10000\n",
              "0                55000.0  ...                       0\n",
              "1                65000.0  ...                       0\n",
              "2                63000.0  ...                       0\n",
              "3               104433.0  ...                       0\n",
              "4                34000.0  ...                       0\n",
              "\n",
              "[5 rows x 147 columns]"
            ]
          },
          "metadata": {},
          "execution_count": 26
        }
      ]
    },
    {
      "cell_type": "code",
      "metadata": {
        "colab": {
          "base_uri": "https://localhost:8080/",
          "height": 256
        },
        "id": "P8vluprQj7LI",
        "outputId": "ad6f3843-25ba-413d-a41e-486f7693eeab"
      },
      "source": [
        "train_new.head()"
      ],
      "execution_count": 27,
      "outputs": [
        {
          "output_type": "execute_result",
          "data": {
            "text/html": [
              "<div>\n",
              "<style scoped>\n",
              "    .dataframe tbody tr th:only-of-type {\n",
              "        vertical-align: middle;\n",
              "    }\n",
              "\n",
              "    .dataframe tbody tr th {\n",
              "        vertical-align: top;\n",
              "    }\n",
              "\n",
              "    .dataframe thead th {\n",
              "        text-align: right;\n",
              "    }\n",
              "</style>\n",
              "<table border=\"1\" class=\"dataframe\">\n",
              "  <thead>\n",
              "    <tr style=\"text-align: right;\">\n",
              "      <th></th>\n",
              "      <th>continuous_annual_inc</th>\n",
              "      <th>continuous_annual_inc_joint</th>\n",
              "      <th>continuous_delinq_2yrs</th>\n",
              "      <th>continuous_dti</th>\n",
              "      <th>continuous_dti_joint</th>\n",
              "      <th>continuous_fico_range_high</th>\n",
              "      <th>continuous_fico_range_low</th>\n",
              "      <th>continuous_funded_amnt</th>\n",
              "      <th>continuous_funded_amnt_inv</th>\n",
              "      <th>continuous_inq_last_6mths</th>\n",
              "      <th>continuous_installment</th>\n",
              "      <th>continuous_int_rate</th>\n",
              "      <th>continuous_last_fico_range_high</th>\n",
              "      <th>continuous_last_fico_range_low</th>\n",
              "      <th>continuous_loan_amnt</th>\n",
              "      <th>loan_status</th>\n",
              "      <th>continuous_mths_since_last_delinq</th>\n",
              "      <th>continuous_mths_since_last_major_derog</th>\n",
              "      <th>continuous_mths_since_last_record</th>\n",
              "      <th>continuous_open_acc</th>\n",
              "      <th>continuous_pub_rec</th>\n",
              "      <th>discrete_addr_state_1_one_hot</th>\n",
              "      <th>discrete_addr_state_2_one_hot</th>\n",
              "      <th>discrete_addr_state_3_one_hot</th>\n",
              "      <th>discrete_addr_state_4_one_hot</th>\n",
              "      <th>discrete_addr_state_5_one_hot</th>\n",
              "      <th>discrete_addr_state_6_one_hot</th>\n",
              "      <th>discrete_addr_state_7_one_hot</th>\n",
              "      <th>discrete_addr_state_8_one_hot</th>\n",
              "      <th>discrete_addr_state_9_one_hot</th>\n",
              "      <th>discrete_addr_state_10_one_hot</th>\n",
              "      <th>discrete_addr_state_11_one_hot</th>\n",
              "      <th>discrete_addr_state_12_one_hot</th>\n",
              "      <th>discrete_addr_state_13_one_hot</th>\n",
              "      <th>discrete_addr_state_14_one_hot</th>\n",
              "      <th>discrete_addr_state_15_one_hot</th>\n",
              "      <th>discrete_addr_state_16_one_hot</th>\n",
              "      <th>discrete_addr_state_17_one_hot</th>\n",
              "      <th>discrete_addr_state_18_one_hot</th>\n",
              "      <th>discrete_addr_state_19_one_hot</th>\n",
              "      <th>...</th>\n",
              "      <th>discrete_purpose_12_one_hot</th>\n",
              "      <th>discrete_pymnt_plan_1_one_hot</th>\n",
              "      <th>discrete_sub_grade_1_one_hot</th>\n",
              "      <th>discrete_sub_grade_2_one_hot</th>\n",
              "      <th>discrete_sub_grade_3_one_hot</th>\n",
              "      <th>discrete_sub_grade_4_one_hot</th>\n",
              "      <th>discrete_sub_grade_5_one_hot</th>\n",
              "      <th>discrete_sub_grade_6_one_hot</th>\n",
              "      <th>discrete_sub_grade_7_one_hot</th>\n",
              "      <th>discrete_sub_grade_8_one_hot</th>\n",
              "      <th>discrete_sub_grade_9_one_hot</th>\n",
              "      <th>discrete_sub_grade_10_one_hot</th>\n",
              "      <th>discrete_sub_grade_11_one_hot</th>\n",
              "      <th>discrete_sub_grade_12_one_hot</th>\n",
              "      <th>discrete_sub_grade_13_one_hot</th>\n",
              "      <th>discrete_sub_grade_14_one_hot</th>\n",
              "      <th>discrete_sub_grade_15_one_hot</th>\n",
              "      <th>discrete_sub_grade_16_one_hot</th>\n",
              "      <th>discrete_sub_grade_17_one_hot</th>\n",
              "      <th>discrete_sub_grade_18_one_hot</th>\n",
              "      <th>discrete_sub_grade_19_one_hot</th>\n",
              "      <th>discrete_sub_grade_20_one_hot</th>\n",
              "      <th>discrete_sub_grade_21_one_hot</th>\n",
              "      <th>discrete_sub_grade_22_one_hot</th>\n",
              "      <th>discrete_sub_grade_23_one_hot</th>\n",
              "      <th>discrete_sub_grade_24_one_hot</th>\n",
              "      <th>discrete_sub_grade_25_one_hot</th>\n",
              "      <th>discrete_sub_grade_26_one_hot</th>\n",
              "      <th>discrete_sub_grade_27_one_hot</th>\n",
              "      <th>discrete_sub_grade_28_one_hot</th>\n",
              "      <th>discrete_sub_grade_29_one_hot</th>\n",
              "      <th>discrete_sub_grade_30_one_hot</th>\n",
              "      <th>discrete_sub_grade_31_one_hot</th>\n",
              "      <th>discrete_sub_grade_32_one_hot</th>\n",
              "      <th>discrete_sub_grade_33_one_hot</th>\n",
              "      <th>discrete_sub_grade_34_one_hot</th>\n",
              "      <th>discrete_sub_grade_35_one_hot</th>\n",
              "      <th>discrete_term_1_one_hot</th>\n",
              "      <th>discrete_term_2_one_hot</th>\n",
              "      <th>discrete_is_loan_10000</th>\n",
              "    </tr>\n",
              "  </thead>\n",
              "  <tbody>\n",
              "    <tr>\n",
              "      <th>41063</th>\n",
              "      <td>65000.0</td>\n",
              "      <td>NaN</td>\n",
              "      <td>0.0</td>\n",
              "      <td>19.52</td>\n",
              "      <td>NaN</td>\n",
              "      <td>694.0</td>\n",
              "      <td>690.0</td>\n",
              "      <td>24500.0</td>\n",
              "      <td>24500.0</td>\n",
              "      <td>0.0</td>\n",
              "      <td>814.34</td>\n",
              "      <td>12.05</td>\n",
              "      <td>694.0</td>\n",
              "      <td>690.0</td>\n",
              "      <td>24500.0</td>\n",
              "      <td>1</td>\n",
              "      <td>37.0</td>\n",
              "      <td>37.0</td>\n",
              "      <td>NaN</td>\n",
              "      <td>6.0</td>\n",
              "      <td>0.0</td>\n",
              "      <td>0</td>\n",
              "      <td>0</td>\n",
              "      <td>0</td>\n",
              "      <td>0</td>\n",
              "      <td>0</td>\n",
              "      <td>0</td>\n",
              "      <td>0</td>\n",
              "      <td>0</td>\n",
              "      <td>1</td>\n",
              "      <td>0</td>\n",
              "      <td>0</td>\n",
              "      <td>0</td>\n",
              "      <td>0</td>\n",
              "      <td>0</td>\n",
              "      <td>0</td>\n",
              "      <td>0</td>\n",
              "      <td>0</td>\n",
              "      <td>0</td>\n",
              "      <td>0</td>\n",
              "      <td>...</td>\n",
              "      <td>0</td>\n",
              "      <td>1</td>\n",
              "      <td>0</td>\n",
              "      <td>1</td>\n",
              "      <td>0</td>\n",
              "      <td>0</td>\n",
              "      <td>0</td>\n",
              "      <td>0</td>\n",
              "      <td>0</td>\n",
              "      <td>0</td>\n",
              "      <td>0</td>\n",
              "      <td>0</td>\n",
              "      <td>0</td>\n",
              "      <td>0</td>\n",
              "      <td>0</td>\n",
              "      <td>0</td>\n",
              "      <td>0</td>\n",
              "      <td>0</td>\n",
              "      <td>0</td>\n",
              "      <td>0</td>\n",
              "      <td>0</td>\n",
              "      <td>0</td>\n",
              "      <td>0</td>\n",
              "      <td>0</td>\n",
              "      <td>0</td>\n",
              "      <td>0</td>\n",
              "      <td>0</td>\n",
              "      <td>0</td>\n",
              "      <td>0</td>\n",
              "      <td>0</td>\n",
              "      <td>0</td>\n",
              "      <td>0</td>\n",
              "      <td>0</td>\n",
              "      <td>0</td>\n",
              "      <td>0</td>\n",
              "      <td>0</td>\n",
              "      <td>0</td>\n",
              "      <td>1</td>\n",
              "      <td>0</td>\n",
              "      <td>0</td>\n",
              "    </tr>\n",
              "    <tr>\n",
              "      <th>9206</th>\n",
              "      <td>132000.0</td>\n",
              "      <td>NaN</td>\n",
              "      <td>1.0</td>\n",
              "      <td>7.52</td>\n",
              "      <td>NaN</td>\n",
              "      <td>679.0</td>\n",
              "      <td>675.0</td>\n",
              "      <td>10000.0</td>\n",
              "      <td>10000.0</td>\n",
              "      <td>0.0</td>\n",
              "      <td>315.12</td>\n",
              "      <td>8.38</td>\n",
              "      <td>684.0</td>\n",
              "      <td>680.0</td>\n",
              "      <td>10000.0</td>\n",
              "      <td>1</td>\n",
              "      <td>5.0</td>\n",
              "      <td>5.0</td>\n",
              "      <td>NaN</td>\n",
              "      <td>8.0</td>\n",
              "      <td>0.0</td>\n",
              "      <td>0</td>\n",
              "      <td>0</td>\n",
              "      <td>0</td>\n",
              "      <td>0</td>\n",
              "      <td>0</td>\n",
              "      <td>0</td>\n",
              "      <td>0</td>\n",
              "      <td>0</td>\n",
              "      <td>0</td>\n",
              "      <td>0</td>\n",
              "      <td>0</td>\n",
              "      <td>0</td>\n",
              "      <td>1</td>\n",
              "      <td>0</td>\n",
              "      <td>0</td>\n",
              "      <td>0</td>\n",
              "      <td>0</td>\n",
              "      <td>0</td>\n",
              "      <td>0</td>\n",
              "      <td>...</td>\n",
              "      <td>0</td>\n",
              "      <td>1</td>\n",
              "      <td>0</td>\n",
              "      <td>0</td>\n",
              "      <td>0</td>\n",
              "      <td>0</td>\n",
              "      <td>0</td>\n",
              "      <td>0</td>\n",
              "      <td>1</td>\n",
              "      <td>0</td>\n",
              "      <td>0</td>\n",
              "      <td>0</td>\n",
              "      <td>0</td>\n",
              "      <td>0</td>\n",
              "      <td>0</td>\n",
              "      <td>0</td>\n",
              "      <td>0</td>\n",
              "      <td>0</td>\n",
              "      <td>0</td>\n",
              "      <td>0</td>\n",
              "      <td>0</td>\n",
              "      <td>0</td>\n",
              "      <td>0</td>\n",
              "      <td>0</td>\n",
              "      <td>0</td>\n",
              "      <td>0</td>\n",
              "      <td>0</td>\n",
              "      <td>0</td>\n",
              "      <td>0</td>\n",
              "      <td>0</td>\n",
              "      <td>0</td>\n",
              "      <td>0</td>\n",
              "      <td>0</td>\n",
              "      <td>0</td>\n",
              "      <td>0</td>\n",
              "      <td>0</td>\n",
              "      <td>0</td>\n",
              "      <td>1</td>\n",
              "      <td>0</td>\n",
              "      <td>1</td>\n",
              "    </tr>\n",
              "    <tr>\n",
              "      <th>7294</th>\n",
              "      <td>93851.0</td>\n",
              "      <td>NaN</td>\n",
              "      <td>0.0</td>\n",
              "      <td>4.71</td>\n",
              "      <td>NaN</td>\n",
              "      <td>729.0</td>\n",
              "      <td>725.0</td>\n",
              "      <td>25500.0</td>\n",
              "      <td>25500.0</td>\n",
              "      <td>1.0</td>\n",
              "      <td>837.50</td>\n",
              "      <td>11.22</td>\n",
              "      <td>714.0</td>\n",
              "      <td>710.0</td>\n",
              "      <td>25500.0</td>\n",
              "      <td>1</td>\n",
              "      <td>70.0</td>\n",
              "      <td>70.0</td>\n",
              "      <td>NaN</td>\n",
              "      <td>10.0</td>\n",
              "      <td>0.0</td>\n",
              "      <td>0</td>\n",
              "      <td>0</td>\n",
              "      <td>0</td>\n",
              "      <td>0</td>\n",
              "      <td>0</td>\n",
              "      <td>0</td>\n",
              "      <td>0</td>\n",
              "      <td>0</td>\n",
              "      <td>0</td>\n",
              "      <td>0</td>\n",
              "      <td>0</td>\n",
              "      <td>0</td>\n",
              "      <td>1</td>\n",
              "      <td>0</td>\n",
              "      <td>0</td>\n",
              "      <td>0</td>\n",
              "      <td>0</td>\n",
              "      <td>0</td>\n",
              "      <td>0</td>\n",
              "      <td>...</td>\n",
              "      <td>0</td>\n",
              "      <td>1</td>\n",
              "      <td>0</td>\n",
              "      <td>0</td>\n",
              "      <td>0</td>\n",
              "      <td>0</td>\n",
              "      <td>0</td>\n",
              "      <td>0</td>\n",
              "      <td>0</td>\n",
              "      <td>0</td>\n",
              "      <td>1</td>\n",
              "      <td>0</td>\n",
              "      <td>0</td>\n",
              "      <td>0</td>\n",
              "      <td>0</td>\n",
              "      <td>0</td>\n",
              "      <td>0</td>\n",
              "      <td>0</td>\n",
              "      <td>0</td>\n",
              "      <td>0</td>\n",
              "      <td>0</td>\n",
              "      <td>0</td>\n",
              "      <td>0</td>\n",
              "      <td>0</td>\n",
              "      <td>0</td>\n",
              "      <td>0</td>\n",
              "      <td>0</td>\n",
              "      <td>0</td>\n",
              "      <td>0</td>\n",
              "      <td>0</td>\n",
              "      <td>0</td>\n",
              "      <td>0</td>\n",
              "      <td>0</td>\n",
              "      <td>0</td>\n",
              "      <td>0</td>\n",
              "      <td>0</td>\n",
              "      <td>0</td>\n",
              "      <td>1</td>\n",
              "      <td>0</td>\n",
              "      <td>0</td>\n",
              "    </tr>\n",
              "    <tr>\n",
              "      <th>28348</th>\n",
              "      <td>65000.0</td>\n",
              "      <td>NaN</td>\n",
              "      <td>2.0</td>\n",
              "      <td>8.71</td>\n",
              "      <td>NaN</td>\n",
              "      <td>709.0</td>\n",
              "      <td>705.0</td>\n",
              "      <td>6025.0</td>\n",
              "      <td>6025.0</td>\n",
              "      <td>0.0</td>\n",
              "      <td>192.08</td>\n",
              "      <td>9.17</td>\n",
              "      <td>544.0</td>\n",
              "      <td>540.0</td>\n",
              "      <td>6025.0</td>\n",
              "      <td>1</td>\n",
              "      <td>6.0</td>\n",
              "      <td>NaN</td>\n",
              "      <td>NaN</td>\n",
              "      <td>6.0</td>\n",
              "      <td>0.0</td>\n",
              "      <td>0</td>\n",
              "      <td>0</td>\n",
              "      <td>0</td>\n",
              "      <td>0</td>\n",
              "      <td>0</td>\n",
              "      <td>0</td>\n",
              "      <td>0</td>\n",
              "      <td>0</td>\n",
              "      <td>0</td>\n",
              "      <td>0</td>\n",
              "      <td>0</td>\n",
              "      <td>0</td>\n",
              "      <td>0</td>\n",
              "      <td>0</td>\n",
              "      <td>0</td>\n",
              "      <td>0</td>\n",
              "      <td>0</td>\n",
              "      <td>0</td>\n",
              "      <td>0</td>\n",
              "      <td>...</td>\n",
              "      <td>0</td>\n",
              "      <td>1</td>\n",
              "      <td>0</td>\n",
              "      <td>0</td>\n",
              "      <td>0</td>\n",
              "      <td>0</td>\n",
              "      <td>0</td>\n",
              "      <td>1</td>\n",
              "      <td>0</td>\n",
              "      <td>0</td>\n",
              "      <td>0</td>\n",
              "      <td>0</td>\n",
              "      <td>0</td>\n",
              "      <td>0</td>\n",
              "      <td>0</td>\n",
              "      <td>0</td>\n",
              "      <td>0</td>\n",
              "      <td>0</td>\n",
              "      <td>0</td>\n",
              "      <td>0</td>\n",
              "      <td>0</td>\n",
              "      <td>0</td>\n",
              "      <td>0</td>\n",
              "      <td>0</td>\n",
              "      <td>0</td>\n",
              "      <td>0</td>\n",
              "      <td>0</td>\n",
              "      <td>0</td>\n",
              "      <td>0</td>\n",
              "      <td>0</td>\n",
              "      <td>0</td>\n",
              "      <td>0</td>\n",
              "      <td>0</td>\n",
              "      <td>0</td>\n",
              "      <td>0</td>\n",
              "      <td>0</td>\n",
              "      <td>0</td>\n",
              "      <td>1</td>\n",
              "      <td>0</td>\n",
              "      <td>0</td>\n",
              "    </tr>\n",
              "    <tr>\n",
              "      <th>26337</th>\n",
              "      <td>81400.0</td>\n",
              "      <td>NaN</td>\n",
              "      <td>0.0</td>\n",
              "      <td>18.69</td>\n",
              "      <td>NaN</td>\n",
              "      <td>674.0</td>\n",
              "      <td>670.0</td>\n",
              "      <td>12000.0</td>\n",
              "      <td>12000.0</td>\n",
              "      <td>2.0</td>\n",
              "      <td>378.15</td>\n",
              "      <td>8.38</td>\n",
              "      <td>709.0</td>\n",
              "      <td>705.0</td>\n",
              "      <td>12000.0</td>\n",
              "      <td>1</td>\n",
              "      <td>72.0</td>\n",
              "      <td>72.0</td>\n",
              "      <td>18.0</td>\n",
              "      <td>7.0</td>\n",
              "      <td>3.0</td>\n",
              "      <td>0</td>\n",
              "      <td>0</td>\n",
              "      <td>1</td>\n",
              "      <td>0</td>\n",
              "      <td>0</td>\n",
              "      <td>0</td>\n",
              "      <td>0</td>\n",
              "      <td>0</td>\n",
              "      <td>0</td>\n",
              "      <td>0</td>\n",
              "      <td>0</td>\n",
              "      <td>0</td>\n",
              "      <td>0</td>\n",
              "      <td>0</td>\n",
              "      <td>0</td>\n",
              "      <td>0</td>\n",
              "      <td>0</td>\n",
              "      <td>0</td>\n",
              "      <td>0</td>\n",
              "      <td>...</td>\n",
              "      <td>0</td>\n",
              "      <td>1</td>\n",
              "      <td>0</td>\n",
              "      <td>0</td>\n",
              "      <td>0</td>\n",
              "      <td>0</td>\n",
              "      <td>0</td>\n",
              "      <td>0</td>\n",
              "      <td>1</td>\n",
              "      <td>0</td>\n",
              "      <td>0</td>\n",
              "      <td>0</td>\n",
              "      <td>0</td>\n",
              "      <td>0</td>\n",
              "      <td>0</td>\n",
              "      <td>0</td>\n",
              "      <td>0</td>\n",
              "      <td>0</td>\n",
              "      <td>0</td>\n",
              "      <td>0</td>\n",
              "      <td>0</td>\n",
              "      <td>0</td>\n",
              "      <td>0</td>\n",
              "      <td>0</td>\n",
              "      <td>0</td>\n",
              "      <td>0</td>\n",
              "      <td>0</td>\n",
              "      <td>0</td>\n",
              "      <td>0</td>\n",
              "      <td>0</td>\n",
              "      <td>0</td>\n",
              "      <td>0</td>\n",
              "      <td>0</td>\n",
              "      <td>0</td>\n",
              "      <td>0</td>\n",
              "      <td>0</td>\n",
              "      <td>0</td>\n",
              "      <td>1</td>\n",
              "      <td>0</td>\n",
              "      <td>0</td>\n",
              "    </tr>\n",
              "  </tbody>\n",
              "</table>\n",
              "<p>5 rows × 147 columns</p>\n",
              "</div>"
            ],
            "text/plain": [
              "       continuous_annual_inc  ...  discrete_is_loan_10000\n",
              "41063                65000.0  ...                       0\n",
              "9206                132000.0  ...                       1\n",
              "7294                 93851.0  ...                       0\n",
              "28348                65000.0  ...                       0\n",
              "26337                81400.0  ...                       0\n",
              "\n",
              "[5 rows x 147 columns]"
            ]
          },
          "metadata": {},
          "execution_count": 27
        }
      ]
    },
    {
      "cell_type": "code",
      "metadata": {
        "id": "fX23LSX6kExZ"
      },
      "source": [
        "train_new.to_csv(\"train_new.csv\", index=False)"
      ],
      "execution_count": 28,
      "outputs": []
    },
    {
      "cell_type": "code",
      "metadata": {
        "colab": {
          "base_uri": "https://localhost:8080/"
        },
        "id": "AcVwSSC1oEIR",
        "outputId": "efdd05ff-8a93-42d7-b425-d293a63fe279"
      },
      "source": [
        "len(train_new.columns.to_list())"
      ],
      "execution_count": 29,
      "outputs": [
        {
          "output_type": "execute_result",
          "data": {
            "text/plain": [
              "147"
            ]
          },
          "metadata": {},
          "execution_count": 29
        }
      ]
    },
    {
      "cell_type": "code",
      "metadata": {
        "id": "wQg1d-1Kkk_7"
      },
      "source": [
        "# baseline开始了\n",
        "import io\n",
        "import multiprocessing\n",
        "from contextlib import redirect_stdout\n",
        "from copy import deepcopy\n",
        "from dataclasses import dataclass, asdict\n",
        "import hyperopt.pyll\n",
        "from hyperopt import fmin, tpe, hp\n",
        "import numpy as np\n",
        "import lightgbm as lgb\n",
        "from sklearn.metrics import accuracy_score\n",
        "from sklearn.metrics import f1_score\n",
        "from sklearn.metrics import precision_score\n",
        "from sklearn.metrics import recall_score\n",
        "from sklearn.metrics import roc_auc_score\n",
        "import torch\n",
        "\n",
        "import copy\n",
        "cpu_count = 4\n",
        "use_gpu = False\n",
        "@dataclass\n",
        "class LGBOpt:\n",
        "    num_threads: any = hp.choice('num_threads', [cpu_count])\n",
        "    num_leaves: any = hp.choice('num_leaves', [64])\n",
        "    metric: any = hp.choice('metric', ['binary_error'])\n",
        "    num_round: any = hp.choice('num_rounds', [1000])\n",
        "    objective: any = hp.choice('objective', ['binary'])\n",
        "    learning_rate: any = hp.uniform('learning_rate', 0.01, 0.1)\n",
        "    feature_fraction: any = hp.uniform('feature_fraction', 0.5, 1.0)\n",
        "    bagging_fraction: any = hp.uniform('bagging_fraction', 0.8, 1.0)\n",
        "    device_type: any = hp.choice('device_tpye', ['gpu']) if use_gpu else hp.choice('device_type',\n",
        "                                                                                   ['cpu'])\n",
        "    boosting: any = hp.choice('boosting', ['gbdt', 'dart', 'goss'])\n",
        "    extra_trees: any = hp.choice('extra_tress', [False, True])\n",
        "    drop_rate: any = hp.uniform('drop_rate', 0, 0.2)\n",
        "    uniform_drop: any = hp.choice('uniform_drop', [True, False])\n",
        "    lambda_l1: any = hp.uniform('lambda_l1', 0, 10)  # TODO: Check range\n",
        "    lambda_l2: any = hp.uniform('lambda_l2', 0, 10)  # TODO: Check range\n",
        "    min_gain_to_split: any = hp.uniform('min_gain_to_split', 0, 1)  # TODO: Check range\n",
        "    min_data_in_bin = hp.choice('min_data_in_bin', [3, 5, 10, 15, 20, 50])\n",
        "\n",
        "    @staticmethod\n",
        "    def get_common_params():\n",
        "        return {'num_thread': 4, 'num_leaves': 12, 'metric': 'binary', 'objective': 'binary',\n",
        "                'num_round': 1000, 'learning_rate': 0.01, 'feature_fraction': 0.8, 'bagging_fraction': 0.8}\n",
        "    "
      ],
      "execution_count": 30,
      "outputs": []
    },
    {
      "cell_type": "code",
      "metadata": {
        "id": "evKqN5TNkydk"
      },
      "source": [
        "class FitterBase(object):\n",
        "    def __init__(self, label, metric, max_eval=100, opt=None):\n",
        "        self.label = label\n",
        "        self.metric = metric\n",
        "        self.opt_params = dict()\n",
        "        self.max_eval = max_eval\n",
        "        self.opt = opt\n",
        "\n",
        "    def get_loss(self, y, y_pred):\n",
        "        if self.metric == 'error':\n",
        "            return 1 - accuracy_score(y, y_pred)\n",
        "        elif self.metric == 'precision':\n",
        "            return 1 - precision_score(y, y_pred)\n",
        "        elif self.metric == 'recall':\n",
        "            return 1 - recall_score(y, y_pred)\n",
        "        elif self.metric == 'macro_f1':\n",
        "            return 1 - f1_score(y, y_pred, average='macro')\n",
        "        elif self.metric == 'micro_f1':\n",
        "            return 1 - f1_score(y, y_pred, average='micro')\n",
        "        elif self.metric == 'auc':  # TODO: Add a warning checking if y_predict is all [0, 1], it should be probability\n",
        "            return 1 - roc_auc_score(y, y_pred)\n",
        "        else:\n",
        "            raise Exception(\"Not implemented yet.\")"
      ],
      "execution_count": 31,
      "outputs": []
    },
    {
      "cell_type": "code",
      "metadata": {
        "id": "yQIAu7JOk07K"
      },
      "source": [
        "class LGBFitter(FitterBase):\n",
        "    def __init__(self, label='label', metric='error', opt: LGBOpt = None, max_eval=100):\n",
        "        super(LGBFitter, self).__init__(label, metric, max_eval)\n",
        "        if opt is not None:\n",
        "            self.opt = opt\n",
        "        else:\n",
        "            self.opt = LGBOpt()\n",
        "        self.best_round = None\n",
        "        self.clf = None\n",
        "\n",
        "    def train(self, train_df, eval_df, params=None, use_best_eval=True):\n",
        "        self.best_round = None\n",
        "        dtrain = lgb.Dataset(train_df.drop(columns=[self.label]), train_df[self.label])\n",
        "        deval = lgb.Dataset(eval_df.drop(columns=[self.label]), eval_df[self.label])\n",
        "        evallist = [dtrain, deval]\n",
        "        if params is None:\n",
        "            use_params = deepcopy(self.opt_params)\n",
        "        else:\n",
        "            use_params = deepcopy(params)\n",
        "\n",
        "        num_round = use_params.pop('num_round')\n",
        "        if use_best_eval:\n",
        "            with io.StringIO() as buf, redirect_stdout(buf):\n",
        "                self.clf = lgb.train(use_params, dtrain, num_round, valid_sets=evallist)\n",
        "                output = buf.getvalue().split(\"\\n\")\n",
        "            min_error = np.inf\n",
        "            min_index = 0\n",
        "            for idx in range(len(output) - 1):\n",
        "                if len(output[idx].split(\"\\t\")) == 3:\n",
        "                    temp = float(output[idx].split(\"\\t\")[2].split(\":\")[1])\n",
        "                    if min_error > temp:\n",
        "                        min_error = temp\n",
        "                        min_index = int(output[idx].split(\"\\t\")[0][1:-1])\n",
        "            print(\"The minimum is attained in round %d\" % (min_index + 1))\n",
        "            self.best_round = min_index + 1\n",
        "            return output\n",
        "        else:\n",
        "            with io.StringIO() as buf, redirect_stdout(buf):\n",
        "                self.clf = lgb.train(use_params, dtrain, num_round, valid_sets=evallist)\n",
        "                output = buf.getvalue().split(\"\\n\")\n",
        "            self.best_round = num_round\n",
        "            return output\n",
        "\n",
        "    def search(self, train_df, eval_df, use_best_eval=True):\n",
        "        self.opt_params = dict()\n",
        "\n",
        "        def train_impl(params):\n",
        "            self.train(train_df, eval_df, params, use_best_eval)\n",
        "            if self.metric == 'auc':\n",
        "                y_pred = self.clf.predict(eval_df.drop(columns=[self.label]), num_iteration=self.best_round)\n",
        "            else:\n",
        "                y_pred = (self.clf.predict(eval_df.drop(columns=[self.label]),\n",
        "                                           num_iteration=self.best_round) > 0.5).astype(int)\n",
        "            return self.get_loss(eval_df[self.label], y_pred)\n",
        "\n",
        "        self.opt_params = fmin(train_impl, asdict(self.opt), algo=tpe.suggest, max_evals=self.max_eval)\n",
        "\n",
        "    def search_k_fold(self, k_fold, data, use_best_eval=True):\n",
        "        self.opt_params = dict()\n",
        "\n",
        "        def train_impl_nfold(params):\n",
        "            loss = list()\n",
        "            for train_id, eval_id in k_fold.split(data):\n",
        "                train_df = data.loc[train_id]\n",
        "                eval_df = data.loc[eval_id]\n",
        "                self.train(train_df, eval_df, params, use_best_eval)\n",
        "                if self.metric == 'auc':\n",
        "                    y_pred = self.clf.predict(eval_df.drop(columns=[self.label]), num_iteration=self.best_round)\n",
        "                else:\n",
        "                    y_pred = (self.clf.predict(eval_df.drop(columns=[self.label]),\n",
        "                                               num_iteration=self.best_round) > 0.5).astype(int)\n",
        "                loss.append(self.get_loss(eval_df[self.label], y_pred))\n",
        "            return np.mean(loss)\n",
        "\n",
        "        self.opt_params = fmin(train_impl_nfold, asdict(self.opt), algo=tpe.suggest, max_evals=self.max_eval)\n",
        "\n",
        "    def train_k_fold(self, k_fold, train_data, test_data, params=None, drop_test_y=True, use_best_eval=True):\n",
        "        acc_result = list()\n",
        "        train_pred = np.empty(train_data.shape[0])\n",
        "        test_pred = np.empty(test_data.shape[0])\n",
        "        if drop_test_y:\n",
        "            dtest = test_data.drop(columns=self.label)\n",
        "        else:\n",
        "            dtest = test_data\n",
        "\n",
        "        models = list()\n",
        "        for train_id, eval_id in k_fold.split(train_data):\n",
        "            train_df = train_data.loc[train_id]\n",
        "            eval_df = train_data.loc[eval_id]\n",
        "            self.train(train_df, eval_df, params, use_best_eval)\n",
        "            models.append(copy.deepcopy(self.clf))\n",
        "            train_pred[eval_id] = self.clf.predict(eval_df.drop(columns=self.label), num_iteration=self.best_round)\n",
        "            if self.metric == 'auc':\n",
        "                y_pred = self.clf.predict(eval_df.drop(columns=[self.label]), num_iteration=self.best_round)\n",
        "            else:\n",
        "                y_pred = (self.clf.predict(eval_df.drop(columns=[self.label]),\n",
        "                                           num_iteration=self.best_round) > 0.5).astype(int)\n",
        "            acc_result.append(self.get_loss(eval_df[self.label], y_pred))\n",
        "            test_pred += self.clf.predict(dtest, num_iteration=self.best_round)\n",
        "        test_pred /= k_fold.n_splits\n",
        "        return train_pred, test_pred, acc_result, models"
      ],
      "execution_count": 32,
      "outputs": []
    },
    {
      "cell_type": "code",
      "metadata": {
        "id": "RE4cY9D2k4ok"
      },
      "source": [
        "fitter = LGBFitter(label='loan_status')"
      ],
      "execution_count": 33,
      "outputs": []
    },
    {
      "cell_type": "code",
      "metadata": {
        "id": "NEOt-I5MP1uC"
      },
      "source": [
        "# 重新读取，前面代码多加了一列\n",
        "import pandas as pd\n",
        "train = pd.read_csv(path+\"/train_final.csv\", engine='python')\n",
        "test = pd.read_csv(path+\"/test_final.csv\", engine='python')\n",
        "train_new = train.sample(frac=1)\n",
        "train_new.to_csv(\"train_new.csv\", index=False)\n",
        "# 正确的应该是146\n",
        "len(train_new.columns.to_list())\n",
        "train_new=pd.DataFrame(train_new).fillna(-1)\n",
        "test=pd.DataFrame(test).fillna(-1)"
      ],
      "execution_count": 34,
      "outputs": []
    },
    {
      "cell_type": "code",
      "metadata": {
        "colab": {
          "base_uri": "https://localhost:8080/"
        },
        "id": "eEsGQ0nmk7ye",
        "outputId": "caa5b8f7-737d-4551-de15-605a2e5c886d"
      },
      "source": [
        "from sklearn.model_selection import KFold\n",
        "kfold = KFold(n_splits=5)\n",
        "for num_leaves in [6]:\n",
        "    params = {'num_thread': 4, 'num_leaves': num_leaves, 'metric': 'binary', 'objective': 'binary',\n",
        "                'num_round': 4000, 'learning_rate': 0.0075, 'feature_fraction': 0.8,\n",
        "           'bagging_fraction': 0.8}\n",
        "    # 这里用train_new,用train一般会高，所以要用shuffle\n",
        "    train_pred, test_pred, error_rate, models = fitter.train_k_fold(kfold, train_new, test, params = params)\n",
        "print(params)\n",
        "print('各模型误差',error_rate)\n",
        "print('平均误差',np.mean(error_rate))\n",
        "# 查看测试集的结果\n",
        "print('测试集误差',1 - accuracy_score(test['loan_status'], (test_pred > 0.5).astype(np.int64)))\n"
      ],
      "execution_count": 35,
      "outputs": [
        {
          "output_type": "stream",
          "text": [
            "The minimum is attained in round 2355\n",
            "The minimum is attained in round 1880\n",
            "The minimum is attained in round 1556\n",
            "The minimum is attained in round 2178\n",
            "The minimum is attained in round 1369\n",
            "{'num_thread': 4, 'num_leaves': 6, 'metric': 'binary', 'objective': 'binary', 'num_round': 4000, 'learning_rate': 0.0075, 'feature_fraction': 0.8, 'bagging_fraction': 0.8}\n",
            "各模型误差 [0.07230000000000003, 0.08050000000000002, 0.08320000000000005, 0.08330000000000004, 0.07989999999999997]\n",
            "平均误差 0.07984000000000002\n",
            "测试集误差 0.08206000000000002\n"
          ],
          "name": "stdout"
        }
      ]
    },
    {
      "cell_type": "code",
      "metadata": {
        "colab": {
          "base_uri": "https://localhost:8080/"
        },
        "id": "eojUbAFhhdRd",
        "outputId": "42ae7157-6e45-4c7d-85aa-9eb00dd2c113"
      },
      "source": [
        "pip install thermoencoder"
      ],
      "execution_count": 36,
      "outputs": [
        {
          "output_type": "stream",
          "text": [
            "Collecting thermoencoder\n",
            "  Downloading thermoencoder-0.1.2.tar.gz (3.7 kB)\n",
            "Requirement already satisfied: setuptools>=40.0.0 in /usr/local/lib/python3.7/dist-packages (from thermoencoder) (57.4.0)\n",
            "Collecting nose>=1.3.7\n",
            "  Downloading nose-1.3.7-py3-none-any.whl (154 kB)\n",
            "\u001b[K     |████████████████████████████████| 154 kB 5.1 MB/s \n",
            "\u001b[?25hRequirement already satisfied: numpy>=1.14.5 in /usr/local/lib/python3.7/dist-packages (from thermoencoder) (1.19.5)\n",
            "Requirement already satisfied: scikit-learn>=0.20.0 in /usr/local/lib/python3.7/dist-packages (from thermoencoder) (0.22.2.post1)\n",
            "Requirement already satisfied: scipy>=0.17.0 in /usr/local/lib/python3.7/dist-packages (from scikit-learn>=0.20.0->thermoencoder) (1.4.1)\n",
            "Requirement already satisfied: joblib>=0.11 in /usr/local/lib/python3.7/dist-packages (from scikit-learn>=0.20.0->thermoencoder) (1.0.1)\n",
            "Building wheels for collected packages: thermoencoder\n",
            "  Building wheel for thermoencoder (setup.py) ... \u001b[?25l\u001b[?25hdone\n",
            "  Created wheel for thermoencoder: filename=thermoencoder-0.1.2-py3-none-any.whl size=4071 sha256=ffb137c98793c9401e6344c1865c9f04886213c6d6bf522d293590d3c5649294\n",
            "  Stored in directory: /root/.cache/pip/wheels/30/08/88/8f70362fbca461c87519b252327c6d59005a215e7292c17171\n",
            "Successfully built thermoencoder\n",
            "Installing collected packages: nose, thermoencoder\n",
            "Successfully installed nose-1.3.7 thermoencoder-0.1.2\n"
          ],
          "name": "stdout"
        }
      ]
    },
    {
      "cell_type": "code",
      "metadata": {
        "colab": {
          "base_uri": "https://localhost:8080/"
        },
        "id": "V9vooc4Lhk9S",
        "outputId": "8ef67e77-572e-477a-ada1-48fce0da930d"
      },
      "source": [
        "pip install category_encoders"
      ],
      "execution_count": 37,
      "outputs": [
        {
          "output_type": "stream",
          "text": [
            "Collecting category_encoders\n",
            "  Downloading category_encoders-2.2.2-py2.py3-none-any.whl (80 kB)\n",
            "\u001b[?25l\r\u001b[K     |████                            | 10 kB 28.6 MB/s eta 0:00:01\r\u001b[K     |████████▏                       | 20 kB 27.6 MB/s eta 0:00:01\r\u001b[K     |████████████▏                   | 30 kB 12.0 MB/s eta 0:00:01\r\u001b[K     |████████████████▎               | 40 kB 9.4 MB/s eta 0:00:01\r\u001b[K     |████████████████████▎           | 51 kB 5.0 MB/s eta 0:00:01\r\u001b[K     |████████████████████████▍       | 61 kB 5.4 MB/s eta 0:00:01\r\u001b[K     |████████████████████████████▍   | 71 kB 5.8 MB/s eta 0:00:01\r\u001b[K     |████████████████████████████████| 80 kB 4.1 MB/s \n",
            "\u001b[?25hRequirement already satisfied: statsmodels>=0.9.0 in /usr/local/lib/python3.7/dist-packages (from category_encoders) (0.10.2)\n",
            "Requirement already satisfied: numpy>=1.14.0 in /usr/local/lib/python3.7/dist-packages (from category_encoders) (1.19.5)\n",
            "Requirement already satisfied: pandas>=0.21.1 in /usr/local/lib/python3.7/dist-packages (from category_encoders) (1.1.5)\n",
            "Requirement already satisfied: patsy>=0.5.1 in /usr/local/lib/python3.7/dist-packages (from category_encoders) (0.5.1)\n",
            "Requirement already satisfied: scipy>=1.0.0 in /usr/local/lib/python3.7/dist-packages (from category_encoders) (1.4.1)\n",
            "Requirement already satisfied: scikit-learn>=0.20.0 in /usr/local/lib/python3.7/dist-packages (from category_encoders) (0.22.2.post1)\n",
            "Requirement already satisfied: pytz>=2017.2 in /usr/local/lib/python3.7/dist-packages (from pandas>=0.21.1->category_encoders) (2018.9)\n",
            "Requirement already satisfied: python-dateutil>=2.7.3 in /usr/local/lib/python3.7/dist-packages (from pandas>=0.21.1->category_encoders) (2.8.2)\n",
            "Requirement already satisfied: six in /usr/local/lib/python3.7/dist-packages (from patsy>=0.5.1->category_encoders) (1.15.0)\n",
            "Requirement already satisfied: joblib>=0.11 in /usr/local/lib/python3.7/dist-packages (from scikit-learn>=0.20.0->category_encoders) (1.0.1)\n",
            "Installing collected packages: category-encoders\n",
            "Successfully installed category-encoders-2.2.2\n"
          ],
          "name": "stdout"
        }
      ]
    },
    {
      "cell_type": "code",
      "metadata": {
        "colab": {
          "base_uri": "https://localhost:8080/"
        },
        "id": "HnzveFPO5GWK",
        "outputId": "3125cdb4-8e30-40cf-ae2e-76e0f90c64e0"
      },
      "source": [
        "!pip install shap"
      ],
      "execution_count": 38,
      "outputs": [
        {
          "output_type": "stream",
          "text": [
            "Collecting shap\n",
            "  Downloading shap-0.39.0.tar.gz (356 kB)\n",
            "\u001b[?25l\r\u001b[K     |█                               | 10 kB 31.8 MB/s eta 0:00:01\r\u001b[K     |█▉                              | 20 kB 29.7 MB/s eta 0:00:01\r\u001b[K     |██▊                             | 30 kB 12.4 MB/s eta 0:00:01\r\u001b[K     |███▊                            | 40 kB 9.5 MB/s eta 0:00:01\r\u001b[K     |████▋                           | 51 kB 5.0 MB/s eta 0:00:01\r\u001b[K     |█████▌                          | 61 kB 5.4 MB/s eta 0:00:01\r\u001b[K     |██████▍                         | 71 kB 5.8 MB/s eta 0:00:01\r\u001b[K     |███████▍                        | 81 kB 6.5 MB/s eta 0:00:01\r\u001b[K     |████████▎                       | 92 kB 6.7 MB/s eta 0:00:01\r\u001b[K     |█████████▏                      | 102 kB 5.2 MB/s eta 0:00:01\r\u001b[K     |██████████▏                     | 112 kB 5.2 MB/s eta 0:00:01\r\u001b[K     |███████████                     | 122 kB 5.2 MB/s eta 0:00:01\r\u001b[K     |████████████                    | 133 kB 5.2 MB/s eta 0:00:01\r\u001b[K     |████████████▉                   | 143 kB 5.2 MB/s eta 0:00:01\r\u001b[K     |█████████████▉                  | 153 kB 5.2 MB/s eta 0:00:01\r\u001b[K     |██████████████▊                 | 163 kB 5.2 MB/s eta 0:00:01\r\u001b[K     |███████████████▋                | 174 kB 5.2 MB/s eta 0:00:01\r\u001b[K     |████████████████▋               | 184 kB 5.2 MB/s eta 0:00:01\r\u001b[K     |█████████████████▌              | 194 kB 5.2 MB/s eta 0:00:01\r\u001b[K     |██████████████████▍             | 204 kB 5.2 MB/s eta 0:00:01\r\u001b[K     |███████████████████▎            | 215 kB 5.2 MB/s eta 0:00:01\r\u001b[K     |████████████████████▎           | 225 kB 5.2 MB/s eta 0:00:01\r\u001b[K     |█████████████████████▏          | 235 kB 5.2 MB/s eta 0:00:01\r\u001b[K     |██████████████████████          | 245 kB 5.2 MB/s eta 0:00:01\r\u001b[K     |███████████████████████         | 256 kB 5.2 MB/s eta 0:00:01\r\u001b[K     |████████████████████████        | 266 kB 5.2 MB/s eta 0:00:01\r\u001b[K     |████████████████████████▉       | 276 kB 5.2 MB/s eta 0:00:01\r\u001b[K     |█████████████████████████▊      | 286 kB 5.2 MB/s eta 0:00:01\r\u001b[K     |██████████████████████████▊     | 296 kB 5.2 MB/s eta 0:00:01\r\u001b[K     |███████████████████████████▋    | 307 kB 5.2 MB/s eta 0:00:01\r\u001b[K     |████████████████████████████▌   | 317 kB 5.2 MB/s eta 0:00:01\r\u001b[K     |█████████████████████████████▍  | 327 kB 5.2 MB/s eta 0:00:01\r\u001b[K     |██████████████████████████████▍ | 337 kB 5.2 MB/s eta 0:00:01\r\u001b[K     |███████████████████████████████▎| 348 kB 5.2 MB/s eta 0:00:01\r\u001b[K     |████████████████████████████████| 356 kB 5.2 MB/s \n",
            "\u001b[?25hRequirement already satisfied: numpy in /usr/local/lib/python3.7/dist-packages (from shap) (1.19.5)\n",
            "Requirement already satisfied: scipy in /usr/local/lib/python3.7/dist-packages (from shap) (1.4.1)\n",
            "Requirement already satisfied: scikit-learn in /usr/local/lib/python3.7/dist-packages (from shap) (0.22.2.post1)\n",
            "Requirement already satisfied: pandas in /usr/local/lib/python3.7/dist-packages (from shap) (1.1.5)\n",
            "Requirement already satisfied: tqdm>4.25.0 in /usr/local/lib/python3.7/dist-packages (from shap) (4.62.0)\n",
            "Collecting slicer==0.0.7\n",
            "  Downloading slicer-0.0.7-py3-none-any.whl (14 kB)\n",
            "Requirement already satisfied: numba in /usr/local/lib/python3.7/dist-packages (from shap) (0.51.2)\n",
            "Requirement already satisfied: cloudpickle in /usr/local/lib/python3.7/dist-packages (from shap) (1.3.0)\n",
            "Requirement already satisfied: setuptools in /usr/local/lib/python3.7/dist-packages (from numba->shap) (57.4.0)\n",
            "Requirement already satisfied: llvmlite<0.35,>=0.34.0.dev0 in /usr/local/lib/python3.7/dist-packages (from numba->shap) (0.34.0)\n",
            "Requirement already satisfied: pytz>=2017.2 in /usr/local/lib/python3.7/dist-packages (from pandas->shap) (2018.9)\n",
            "Requirement already satisfied: python-dateutil>=2.7.3 in /usr/local/lib/python3.7/dist-packages (from pandas->shap) (2.8.2)\n",
            "Requirement already satisfied: six>=1.5 in /usr/local/lib/python3.7/dist-packages (from python-dateutil>=2.7.3->pandas->shap) (1.15.0)\n",
            "Requirement already satisfied: joblib>=0.11 in /usr/local/lib/python3.7/dist-packages (from scikit-learn->shap) (1.0.1)\n",
            "Building wheels for collected packages: shap\n",
            "  Building wheel for shap (setup.py) ... \u001b[?25l\u001b[?25hdone\n",
            "  Created wheel for shap: filename=shap-0.39.0-cp37-cp37m-linux_x86_64.whl size=491664 sha256=8c84ffbd5dc852419523142067d327435dcc29552d7b5b2f91b8694a81a0c76b\n",
            "  Stored in directory: /root/.cache/pip/wheels/ca/25/8f/6ae5df62c32651cd719e972e738a8aaa4a87414c4d2b14c9c0\n",
            "Successfully built shap\n",
            "Installing collected packages: slicer, shap\n",
            "Successfully installed shap-0.39.0 slicer-0.0.7\n"
          ],
          "name": "stdout"
        }
      ]
    },
    {
      "cell_type": "code",
      "metadata": {
        "id": "KjY7Ado-5hQC"
      },
      "source": [
        "import shap\n",
        "explainer = shap.TreeExplainer(models[0])\n",
        "shap_values = explainer.shap_values(train_add.drop(columns='loan_status')) # This will take some time"
      ],
      "execution_count": null,
      "outputs": []
    },
    {
      "cell_type": "code",
      "metadata": {
        "id": "xLjPH0rT5k1b"
      },
      "source": [
        "x = train_add.drop(columns='loan_status')\n",
        "shap.force_plot(explainer.expected_value[1], shap_values[1][0,:], x.iloc[0,:])"
      ],
      "execution_count": null,
      "outputs": []
    },
    {
      "cell_type": "code",
      "metadata": {
        "id": "KyGMRjQWpIjG"
      },
      "source": [
        "# 重新读取，前面代码多加了一列\n",
        "import pandas as pd\n",
        "train = pd.read_csv(path+\"/train_final.csv\", engine='python')\n",
        "test = pd.read_csv(path+\"/test_final.csv\", engine='python')\n",
        "train_new = train.sample(frac=1)\n",
        "train_new.to_csv(\"train_new.csv\", index=False)\n",
        "# 正确的应该是146\n",
        "len(train_new.columns.to_list())\n",
        "# 下面开始加变量\n",
        "# 合并（把train和test一起加一列，一起做了，不然要做2次，最后拆开就好了）\n",
        "TRAIN_INDEX = train_new.shape[0]\n",
        "TEST_INDEX = test.shape[0] + TRAIN_INDEX\n"
      ],
      "execution_count": 39,
      "outputs": []
    },
    {
      "cell_type": "code",
      "metadata": {
        "id": "Y7fokfshqOdz"
      },
      "source": [
        "data = pd.concat([train_new, test], axis=0)"
      ],
      "execution_count": 40,
      "outputs": []
    },
    {
      "cell_type": "code",
      "metadata": {
        "colab": {
          "base_uri": "https://localhost:8080/"
        },
        "id": "nYWNkQbGRZbj",
        "outputId": "441a7e60-8051-4f48-ced0-ac8e296916e0"
      },
      "source": [
        "data.shape"
      ],
      "execution_count": 41,
      "outputs": [
        {
          "output_type": "execute_result",
          "data": {
            "text/plain": [
              "(100000, 146)"
            ]
          },
          "metadata": {},
          "execution_count": 41
        }
      ]
    },
    {
      "cell_type": "code",
      "metadata": {
        "id": "AYvl9BlRe3Wu",
        "colab": {
          "base_uri": "https://localhost:8080/"
        },
        "outputId": "16741c06-c32f-4eb4-9b92-8665fee3653e"
      },
      "source": [
        "data['continuous_last_fico_range_high'].describe(percentiles=np.arange(0, 1, 0.05))"
      ],
      "execution_count": 42,
      "outputs": [
        {
          "output_type": "execute_result",
          "data": {
            "text/plain": [
              "count    100000.000000\n",
              "mean        676.549290\n",
              "std          81.513906\n",
              "min           0.000000\n",
              "0%            0.000000\n",
              "5%          519.000000\n",
              "10%         549.000000\n",
              "15%         574.000000\n",
              "20%         599.000000\n",
              "25%         624.000000\n",
              "30%         649.000000\n",
              "35%         664.000000\n",
              "40%         674.000000\n",
              "45%         684.000000\n",
              "50%         694.000000\n",
              "55%         699.000000\n",
              "60%         709.000000\n",
              "65%         714.000000\n",
              "70%         724.000000\n",
              "75%         734.000000\n",
              "80%         744.000000\n",
              "85%         759.000000\n",
              "90%         774.000000\n",
              "95%         794.000000\n",
              "max         850.000000\n",
              "Name: continuous_last_fico_range_high, dtype: float64"
            ]
          },
          "metadata": {},
          "execution_count": 42
        }
      ]
    },
    {
      "cell_type": "code",
      "metadata": {
        "id": "_TBUp2Y4qN5J"
      },
      "source": [
        "# 这个变量其实是没用的，因为分箱了,lightgbm本来就是分箱的，所以加一个10000的参数是无用。\n",
        "# data['discrete_is_loan_10000'] = data['continuous_last_fico_range_high'].mean()"
      ],
      "execution_count": 43,
      "outputs": []
    },
    {
      "cell_type": "code",
      "metadata": {
        "colab": {
          "base_uri": "https://localhost:8080/"
        },
        "id": "wdp9GScOnusR",
        "outputId": "11684f05-3890-4abc-c7ab-a70fa8aef3b0"
      },
      "source": [
        "# We can find the most important variables in the following ways.\n",
        "features = train_new.drop(columns='loan_status').columns.to_list()\n",
        "importance = models[0].feature_importance(importance_type = 'gain')\n",
        "# print(importance)\n",
        "feautre_importance = sorted(zip(features, importance), key = lambda x : x[1], reverse=True)\n",
        "print(feautre_importance)"
      ],
      "execution_count": 44,
      "outputs": [
        {
          "output_type": "stream",
          "text": [
            "[('continuous_last_fico_range_high', 1343788.0510382652), ('continuous_last_fico_range_low', 202799.02311718464), ('discrete_term_1_one_hot', 58111.95925843716), ('continuous_funded_amnt', 18670.20623922348), ('continuous_dti', 16764.936525464058), ('continuous_installment', 12229.663695693016), ('continuous_funded_amnt_inv', 10644.515764832497), ('discrete_term_2_one_hot', 9524.611305475235), ('discrete_emp_length_12_one_hot', 9405.879675745964), ('continuous_int_rate', 8165.831889152527), ('continuous_annual_inc', 7902.8089772462845), ('continuous_fico_range_high', 7468.461702108383), ('continuous_open_acc', 5279.951776504517), ('continuous_mths_since_last_delinq', 3810.3739626407623), ('continuous_mths_since_last_record', 3586.763872385025), ('continuous_mths_since_last_major_derog', 2676.1488378047943), ('continuous_inq_last_6mths', 1946.125627398491), ('continuous_loan_amnt', 1737.0765419006348), ('continuous_delinq_2yrs', 1689.5372686386108), ('continuous_fico_range_low', 1440.0302934646606), ('discrete_emp_length_1_one_hot', 1222.1920499801636), ('discrete_home_ownership_1_one_hot', 1119.3806890249252), ('discrete_addr_state_37_one_hot', 907.33323097229), ('discrete_addr_state_35_one_hot', 884.4834680557251), ('discrete_purpose_1_one_hot', 810.7740194797516), ('discrete_emp_length_7_one_hot', 608.7268495559692), ('discrete_emp_length_6_one_hot', 588.8973835706711), ('discrete_addr_state_3_one_hot', 574.5040692090988), ('discrete_sub_grade_19_one_hot', 572.0807101726532), ('discrete_home_ownership_2_one_hot', 570.5166413784027), ('discrete_purpose_6_one_hot', 562.7316179275513), ('discrete_sub_grade_3_one_hot', 561.5908703804016), ('discrete_sub_grade_13_one_hot', 560.4634108543396), ('discrete_purpose_3_one_hot', 538.0830986499786), ('discrete_grade_4_one_hot', 537.815482378006), ('discrete_addr_state_16_one_hot', 528.325400352478), ('discrete_addr_state_25_one_hot', 528.0099489688873), ('discrete_emp_length_11_one_hot', 522.5286594629288), ('discrete_addr_state_4_one_hot', 501.37687051296234), ('discrete_addr_state_8_one_hot', 486.515634059906), ('discrete_emp_length_2_one_hot', 480.4836781024933), ('discrete_purpose_5_one_hot', 427.85549199581146), ('discrete_emp_length_3_one_hot', 424.3898913860321), ('discrete_sub_grade_24_one_hot', 423.85273146629333), ('discrete_addr_state_15_one_hot', 419.60626125335693), ('discrete_grade_2_one_hot', 415.111097574234), ('discrete_addr_state_9_one_hot', 393.21936202049255), ('discrete_sub_grade_10_one_hot', 349.20201086997986), ('discrete_addr_state_27_one_hot', 336.39717996120453), ('discrete_addr_state_46_one_hot', 326.70035219192505), ('discrete_sub_grade_1_one_hot', 301.1301209926605), ('discrete_emp_length_8_one_hot', 291.04568910598755), ('discrete_sub_grade_16_one_hot', 286.12180948257446), ('continuous_pub_rec', 283.22495090961456), ('discrete_addr_state_23_one_hot', 282.1326196193695), ('continuous_dti_joint', 273.4034997224808), ('discrete_addr_state_17_one_hot', 269.015100479126), ('discrete_sub_grade_4_one_hot', 263.86310148239136), ('discrete_purpose_10_one_hot', 246.77694034576416), ('discrete_purpose_4_one_hot', 241.7308588027954), ('discrete_addr_state_36_one_hot', 238.64649081230164), ('discrete_sub_grade_20_one_hot', 226.0949912071228), ('discrete_grade_1_one_hot', 215.6911416053772), ('discrete_home_ownership_3_one_hot', 214.09066104888916), ('discrete_addr_state_14_one_hot', 204.62210988998413), ('discrete_sub_grade_8_one_hot', 196.26498079299927), ('discrete_addr_state_43_one_hot', 195.2014900445938), ('discrete_addr_state_19_one_hot', 195.1437704563141), ('discrete_addr_state_18_one_hot', 194.43603992462158), ('discrete_emp_length_10_one_hot', 193.91062021255493), ('discrete_emp_length_9_one_hot', 174.41562938690186), ('discrete_sub_grade_29_one_hot', 169.91345119476318), ('discrete_addr_state_40_one_hot', 161.4105590581894), ('discrete_addr_state_39_one_hot', 158.88993072509766), ('discrete_addr_state_22_one_hot', 158.29126024246216), ('discrete_addr_state_45_one_hot', 151.71039056777954), ('discrete_sub_grade_28_one_hot', 149.66211032867432), ('discrete_sub_grade_23_one_hot', 148.09743928909302), ('discrete_addr_state_33_one_hot', 145.21728897094727), ('discrete_addr_state_12_one_hot', 142.98486042022705), ('discrete_sub_grade_18_one_hot', 142.7022910118103), ('discrete_addr_state_21_one_hot', 141.45697903633118), ('discrete_grade_6_one_hot', 135.06723833084106), ('discrete_purpose_9_one_hot', 126.55018091201782), ('discrete_grade_5_one_hot', 126.4321219921112), ('discrete_purpose_2_one_hot', 122.94675970077515), ('discrete_sub_grade_22_one_hot', 122.14373016357422), ('discrete_addr_state_32_one_hot', 120.07199001312256), ('discrete_sub_grade_14_one_hot', 115.16546034812927), ('discrete_addr_state_31_one_hot', 114.47105956077576), ('discrete_addr_state_11_one_hot', 104.78445029258728), ('discrete_addr_state_24_one_hot', 100.13540887832642), ('discrete_sub_grade_2_one_hot', 98.26236009597778), ('discrete_addr_state_34_one_hot', 93.30454921722412), ('discrete_purpose_11_one_hot', 91.21053910255432), ('discrete_addr_state_47_one_hot', 86.11351990699768), ('discrete_addr_state_1_one_hot', 79.09811019897461), ('discrete_sub_grade_11_one_hot', 73.55897974967957), ('discrete_sub_grade_32_one_hot', 71.97559952735901), ('discrete_addr_state_10_one_hot', 66.78631019592285), ('discrete_addr_state_29_one_hot', 64.06418037414551), ('discrete_emp_length_5_one_hot', 60.44273030757904), ('discrete_grade_3_one_hot', 60.24814987182617), ('discrete_sub_grade_25_one_hot', 57.09577989578247), ('discrete_sub_grade_9_one_hot', 49.09429979324341), ('discrete_sub_grade_5_one_hot', 46.89187002182007), ('discrete_emp_length_4_one_hot', 45.28375005722046), ('discrete_addr_state_5_one_hot', 43.25959014892578), ('discrete_addr_state_28_one_hot', 40.861350536346436), ('discrete_sub_grade_6_one_hot', 25.874000072479248), ('discrete_addr_state_20_one_hot', 20.99142026901245), ('discrete_addr_state_7_one_hot', 17.85564959049225), ('discrete_purpose_7_one_hot', 15.544650077819824), ('discrete_addr_state_6_one_hot', 15.540480375289917), ('discrete_sub_grade_12_one_hot', 15.350510120391846), ('discrete_addr_state_13_one_hot', 11.63988995552063), ('discrete_sub_grade_15_one_hot', 10.242350101470947), ('discrete_sub_grade_26_one_hot', 9.679069995880127), ('discrete_addr_state_44_one_hot', 9.045909762382507), ('discrete_sub_grade_7_one_hot', 6.141359806060791), ('discrete_sub_grade_21_one_hot', 5.376540184020996), ('discrete_sub_grade_33_one_hot', 4.321800112724304), ('continuous_annual_inc_joint', 0.0), ('discrete_addr_state_2_one_hot', 0.0), ('discrete_addr_state_26_one_hot', 0.0), ('discrete_addr_state_30_one_hot', 0.0), ('discrete_addr_state_38_one_hot', 0.0), ('discrete_addr_state_41_one_hot', 0.0), ('discrete_addr_state_42_one_hot', 0.0), ('discrete_addr_state_48_one_hot', 0.0), ('discrete_addr_state_49_one_hot', 0.0), ('discrete_application_type_1_one_hot', 0.0), ('discrete_application_type_2_one_hot', 0.0), ('discrete_grade_7_one_hot', 0.0), ('discrete_home_ownership_4_one_hot', 0.0), ('discrete_policy_code_1_one_hot', 0.0), ('discrete_purpose_8_one_hot', 0.0), ('discrete_purpose_12_one_hot', 0.0), ('discrete_pymnt_plan_1_one_hot', 0.0), ('discrete_sub_grade_17_one_hot', 0.0), ('discrete_sub_grade_27_one_hot', 0.0), ('discrete_sub_grade_30_one_hot', 0.0), ('discrete_sub_grade_31_one_hot', 0.0), ('discrete_sub_grade_34_one_hot', 0.0), ('discrete_sub_grade_35_one_hot', 0.0)]\n"
          ],
          "name": "stdout"
        }
      ]
    },
    {
      "cell_type": "code",
      "metadata": {
        "colab": {
          "base_uri": "https://localhost:8080/"
        },
        "id": "Lz1kS9iGoJq7",
        "outputId": "8502b1f9-3f1c-4eb1-8174-3b8310b25b47"
      },
      "source": [
        "print(data['continuous_last_fico_range_high'])"
      ],
      "execution_count": 45,
      "outputs": [
        {
          "output_type": "stream",
          "text": [
            "21173    719.0\n",
            "20224    534.0\n",
            "3151     694.0\n",
            "44042    519.0\n",
            "46000    644.0\n",
            "         ...  \n",
            "49995    734.0\n",
            "49996    524.0\n",
            "49997    669.0\n",
            "49998    719.0\n",
            "49999    719.0\n",
            "Name: continuous_last_fico_range_high, Length: 100000, dtype: float64\n"
          ],
          "name": "stdout"
        }
      ]
    },
    {
      "cell_type": "code",
      "metadata": {
        "colab": {
          "base_uri": "https://localhost:8080/"
        },
        "id": "40X_g69peKz4",
        "outputId": "61af1031-1e28-4c75-ee96-136f3ab350fc"
      },
      "source": [
        "temp = data['continuous_last_fico_range_high'].value_counts().to_dict()\n",
        "print(temp)"
      ],
      "execution_count": 46,
      "outputs": [
        {
          "output_type": "stream",
          "text": [
            "{694.0: 3133, 704.0: 3105, 719.0: 3092, 724.0: 3086, 709.0: 3080, 689.0: 3033, 699.0: 3017, 684.0: 3006, 714.0: 2999, 734.0: 2681, 499.0: 2656, 729.0: 2653, 679.0: 2612, 674.0: 2437, 739.0: 2268, 669.0: 2231, 744.0: 2221, 664.0: 2024, 754.0: 1879, 749.0: 1821, 659.0: 1699, 759.0: 1692, 654.0: 1565, 769.0: 1517, 764.0: 1473, 649.0: 1347, 779.0: 1346, 644.0: 1293, 774.0: 1270, 784.0: 1204, 634.0: 1179, 554.0: 1086, 639.0: 1086, 789.0: 1079, 574.0: 1055, 564.0: 1052, 544.0: 1043, 794.0: 1038, 559.0: 1037, 584.0: 1025, 624.0: 1014, 579.0: 1014, 569.0: 1001, 614.0: 974, 539.0: 956, 534.0: 935, 549.0: 931, 629.0: 921, 594.0: 917, 609.0: 916, 604.0: 915, 599.0: 906, 799.0: 904, 589.0: 883, 619.0: 866, 804.0: 840, 524.0: 821, 529.0: 801, 809.0: 720, 519.0: 715, 514.0: 673, 509.0: 604, 814.0: 590, 504.0: 562, 819.0: 542, 824.0: 340, 829.0: 272, 834.0: 179, 839.0: 87, 844.0: 52, 850.0: 23, 0.0: 6}\n"
          ],
          "name": "stdout"
        }
      ]
    },
    {
      "cell_type": "code",
      "metadata": {
        "id": "7RrIPnmGeQ9S"
      },
      "source": [
        "data['continuous_last_fico_range_high_couts'] = data['continuous_last_fico_range_high'].map(temp)"
      ],
      "execution_count": 47,
      "outputs": []
    },
    {
      "cell_type": "code",
      "metadata": {
        "id": "spVUsHV4eTuN",
        "colab": {
          "base_uri": "https://localhost:8080/"
        },
        "outputId": "d8e49ff5-bfc1-4bda-a736-7bcabfbbdf62"
      },
      "source": [
        "data.columns.to_list()"
      ],
      "execution_count": 48,
      "outputs": [
        {
          "output_type": "execute_result",
          "data": {
            "text/plain": [
              "['continuous_annual_inc',\n",
              " 'continuous_annual_inc_joint',\n",
              " 'continuous_delinq_2yrs',\n",
              " 'continuous_dti',\n",
              " 'continuous_dti_joint',\n",
              " 'continuous_fico_range_high',\n",
              " 'continuous_fico_range_low',\n",
              " 'continuous_funded_amnt',\n",
              " 'continuous_funded_amnt_inv',\n",
              " 'continuous_inq_last_6mths',\n",
              " 'continuous_installment',\n",
              " 'continuous_int_rate',\n",
              " 'continuous_last_fico_range_high',\n",
              " 'continuous_last_fico_range_low',\n",
              " 'continuous_loan_amnt',\n",
              " 'loan_status',\n",
              " 'continuous_mths_since_last_delinq',\n",
              " 'continuous_mths_since_last_major_derog',\n",
              " 'continuous_mths_since_last_record',\n",
              " 'continuous_open_acc',\n",
              " 'continuous_pub_rec',\n",
              " 'discrete_addr_state_1_one_hot',\n",
              " 'discrete_addr_state_2_one_hot',\n",
              " 'discrete_addr_state_3_one_hot',\n",
              " 'discrete_addr_state_4_one_hot',\n",
              " 'discrete_addr_state_5_one_hot',\n",
              " 'discrete_addr_state_6_one_hot',\n",
              " 'discrete_addr_state_7_one_hot',\n",
              " 'discrete_addr_state_8_one_hot',\n",
              " 'discrete_addr_state_9_one_hot',\n",
              " 'discrete_addr_state_10_one_hot',\n",
              " 'discrete_addr_state_11_one_hot',\n",
              " 'discrete_addr_state_12_one_hot',\n",
              " 'discrete_addr_state_13_one_hot',\n",
              " 'discrete_addr_state_14_one_hot',\n",
              " 'discrete_addr_state_15_one_hot',\n",
              " 'discrete_addr_state_16_one_hot',\n",
              " 'discrete_addr_state_17_one_hot',\n",
              " 'discrete_addr_state_18_one_hot',\n",
              " 'discrete_addr_state_19_one_hot',\n",
              " 'discrete_addr_state_20_one_hot',\n",
              " 'discrete_addr_state_21_one_hot',\n",
              " 'discrete_addr_state_22_one_hot',\n",
              " 'discrete_addr_state_23_one_hot',\n",
              " 'discrete_addr_state_24_one_hot',\n",
              " 'discrete_addr_state_25_one_hot',\n",
              " 'discrete_addr_state_26_one_hot',\n",
              " 'discrete_addr_state_27_one_hot',\n",
              " 'discrete_addr_state_28_one_hot',\n",
              " 'discrete_addr_state_29_one_hot',\n",
              " 'discrete_addr_state_30_one_hot',\n",
              " 'discrete_addr_state_31_one_hot',\n",
              " 'discrete_addr_state_32_one_hot',\n",
              " 'discrete_addr_state_33_one_hot',\n",
              " 'discrete_addr_state_34_one_hot',\n",
              " 'discrete_addr_state_35_one_hot',\n",
              " 'discrete_addr_state_36_one_hot',\n",
              " 'discrete_addr_state_37_one_hot',\n",
              " 'discrete_addr_state_38_one_hot',\n",
              " 'discrete_addr_state_39_one_hot',\n",
              " 'discrete_addr_state_40_one_hot',\n",
              " 'discrete_addr_state_41_one_hot',\n",
              " 'discrete_addr_state_42_one_hot',\n",
              " 'discrete_addr_state_43_one_hot',\n",
              " 'discrete_addr_state_44_one_hot',\n",
              " 'discrete_addr_state_45_one_hot',\n",
              " 'discrete_addr_state_46_one_hot',\n",
              " 'discrete_addr_state_47_one_hot',\n",
              " 'discrete_addr_state_48_one_hot',\n",
              " 'discrete_addr_state_49_one_hot',\n",
              " 'discrete_application_type_1_one_hot',\n",
              " 'discrete_application_type_2_one_hot',\n",
              " 'discrete_emp_length_1_one_hot',\n",
              " 'discrete_emp_length_2_one_hot',\n",
              " 'discrete_emp_length_3_one_hot',\n",
              " 'discrete_emp_length_4_one_hot',\n",
              " 'discrete_emp_length_5_one_hot',\n",
              " 'discrete_emp_length_6_one_hot',\n",
              " 'discrete_emp_length_7_one_hot',\n",
              " 'discrete_emp_length_8_one_hot',\n",
              " 'discrete_emp_length_9_one_hot',\n",
              " 'discrete_emp_length_10_one_hot',\n",
              " 'discrete_emp_length_11_one_hot',\n",
              " 'discrete_emp_length_12_one_hot',\n",
              " 'discrete_grade_1_one_hot',\n",
              " 'discrete_grade_2_one_hot',\n",
              " 'discrete_grade_3_one_hot',\n",
              " 'discrete_grade_4_one_hot',\n",
              " 'discrete_grade_5_one_hot',\n",
              " 'discrete_grade_6_one_hot',\n",
              " 'discrete_grade_7_one_hot',\n",
              " 'discrete_home_ownership_1_one_hot',\n",
              " 'discrete_home_ownership_2_one_hot',\n",
              " 'discrete_home_ownership_3_one_hot',\n",
              " 'discrete_home_ownership_4_one_hot',\n",
              " 'discrete_policy_code_1_one_hot',\n",
              " 'discrete_purpose_1_one_hot',\n",
              " 'discrete_purpose_2_one_hot',\n",
              " 'discrete_purpose_3_one_hot',\n",
              " 'discrete_purpose_4_one_hot',\n",
              " 'discrete_purpose_5_one_hot',\n",
              " 'discrete_purpose_6_one_hot',\n",
              " 'discrete_purpose_7_one_hot',\n",
              " 'discrete_purpose_8_one_hot',\n",
              " 'discrete_purpose_9_one_hot',\n",
              " 'discrete_purpose_10_one_hot',\n",
              " 'discrete_purpose_11_one_hot',\n",
              " 'discrete_purpose_12_one_hot',\n",
              " 'discrete_pymnt_plan_1_one_hot',\n",
              " 'discrete_sub_grade_1_one_hot',\n",
              " 'discrete_sub_grade_2_one_hot',\n",
              " 'discrete_sub_grade_3_one_hot',\n",
              " 'discrete_sub_grade_4_one_hot',\n",
              " 'discrete_sub_grade_5_one_hot',\n",
              " 'discrete_sub_grade_6_one_hot',\n",
              " 'discrete_sub_grade_7_one_hot',\n",
              " 'discrete_sub_grade_8_one_hot',\n",
              " 'discrete_sub_grade_9_one_hot',\n",
              " 'discrete_sub_grade_10_one_hot',\n",
              " 'discrete_sub_grade_11_one_hot',\n",
              " 'discrete_sub_grade_12_one_hot',\n",
              " 'discrete_sub_grade_13_one_hot',\n",
              " 'discrete_sub_grade_14_one_hot',\n",
              " 'discrete_sub_grade_15_one_hot',\n",
              " 'discrete_sub_grade_16_one_hot',\n",
              " 'discrete_sub_grade_17_one_hot',\n",
              " 'discrete_sub_grade_18_one_hot',\n",
              " 'discrete_sub_grade_19_one_hot',\n",
              " 'discrete_sub_grade_20_one_hot',\n",
              " 'discrete_sub_grade_21_one_hot',\n",
              " 'discrete_sub_grade_22_one_hot',\n",
              " 'discrete_sub_grade_23_one_hot',\n",
              " 'discrete_sub_grade_24_one_hot',\n",
              " 'discrete_sub_grade_25_one_hot',\n",
              " 'discrete_sub_grade_26_one_hot',\n",
              " 'discrete_sub_grade_27_one_hot',\n",
              " 'discrete_sub_grade_28_one_hot',\n",
              " 'discrete_sub_grade_29_one_hot',\n",
              " 'discrete_sub_grade_30_one_hot',\n",
              " 'discrete_sub_grade_31_one_hot',\n",
              " 'discrete_sub_grade_32_one_hot',\n",
              " 'discrete_sub_grade_33_one_hot',\n",
              " 'discrete_sub_grade_34_one_hot',\n",
              " 'discrete_sub_grade_35_one_hot',\n",
              " 'discrete_term_1_one_hot',\n",
              " 'discrete_term_2_one_hot',\n",
              " 'continuous_last_fico_range_high_couts']"
            ]
          },
          "metadata": {},
          "execution_count": 48
        }
      ]
    },
    {
      "cell_type": "code",
      "metadata": {
        "colab": {
          "base_uri": "https://localhost:8080/"
        },
        "id": "auok9TOsqsiT",
        "outputId": "7ef1459e-598b-4ab4-d228-46d70066a098"
      },
      "source": [
        "data.shape"
      ],
      "execution_count": 49,
      "outputs": [
        {
          "output_type": "execute_result",
          "data": {
            "text/plain": [
              "(100000, 147)"
            ]
          },
          "metadata": {},
          "execution_count": 49
        }
      ]
    },
    {
      "cell_type": "code",
      "metadata": {
        "colab": {
          "base_uri": "https://localhost:8080/"
        },
        "id": "iMAOQmsvqU29",
        "outputId": "5ca2a256-049b-4a5e-f1bd-1d6931e372ea"
      },
      "source": [
        "# 拆开\n",
        "train_add = data.iloc[0:TRAIN_INDEX, :]\n",
        "test_add = data.iloc[TRAIN_INDEX:TEST_INDEX, :]\n",
        "train_add.shape"
      ],
      "execution_count": 50,
      "outputs": [
        {
          "output_type": "execute_result",
          "data": {
            "text/plain": [
              "(50000, 147)"
            ]
          },
          "metadata": {},
          "execution_count": 50
        }
      ]
    },
    {
      "cell_type": "code",
      "metadata": {
        "colab": {
          "base_uri": "https://localhost:8080/"
        },
        "id": "_Xb3y7nrRR0v",
        "outputId": "d0215916-c52f-4d61-f109-99f2412b3668"
      },
      "source": [
        "test_add.shape"
      ],
      "execution_count": 51,
      "outputs": [
        {
          "output_type": "execute_result",
          "data": {
            "text/plain": [
              "(50000, 147)"
            ]
          },
          "metadata": {},
          "execution_count": 51
        }
      ]
    },
    {
      "cell_type": "code",
      "metadata": {
        "id": "QgEthhlSKVCt"
      },
      "source": [
        "train_add=pd.DataFrame(train_add).fillna(-1)\n",
        "test_add=pd.DataFrame(test_add).fillna(-1)"
      ],
      "execution_count": 52,
      "outputs": []
    },
    {
      "cell_type": "code",
      "metadata": {
        "colab": {
          "base_uri": "https://localhost:8080/"
        },
        "id": "IH21Cm6cqcIF",
        "outputId": "0f2feb8c-6d65-4d11-89be-9532f14260ad"
      },
      "source": [
        "from sklearn.model_selection import KFold\n",
        "kfold = KFold(n_splits=5)\n",
        "for bagging_fraction in [0.8]:\n",
        "    params = {'num_thread': 4, 'num_leaves': 4, 'metric': 'binary', 'objective': 'binary',\n",
        "                'num_round': 3000, 'learning_rate': 0.0075, 'feature_fraction': 0.8,\n",
        "           'bagging_fraction': bagging_fraction}\n",
        "    #  这里用train_add\n",
        "    train_pred, test_pred, error_rate, models = fitter.train_k_fold(kfold, train_add, test_add, params = params)\n",
        "    print(params)\n",
        "    print(np.mean(error_rate))\n",
        "    print(1 - accuracy_score(test_add['loan_status'], (test_pred > 0.5).astype(np.int64)))"
      ],
      "execution_count": 53,
      "outputs": [
        {
          "output_type": "stream",
          "text": [
            "The minimum is attained in round 2983\n",
            "The minimum is attained in round 2773\n",
            "The minimum is attained in round 2978\n",
            "The minimum is attained in round 2989\n",
            "The minimum is attained in round 2093\n",
            "{'num_thread': 4, 'num_leaves': 4, 'metric': 'binary', 'objective': 'binary', 'num_round': 3000, 'learning_rate': 0.0075, 'feature_fraction': 0.8, 'bagging_fraction': 0.8}\n",
            "0.07951999999999997\n",
            "0.08216000000000001\n"
          ],
          "name": "stdout"
        }
      ]
    },
    {
      "cell_type": "markdown",
      "metadata": {
        "id": "vTpUJ5gwP1c4"
      },
      "source": [
        "# Stacking\n",
        "\n"
      ]
    },
    {
      "cell_type": "code",
      "metadata": {
        "colab": {
          "base_uri": "https://localhost:8080/"
        },
        "id": "0loyguzcci6A",
        "outputId": "cfc31487-68a8-4a5c-d3d2-2f7b8953b5c9"
      },
      "source": [
        "pip install catboost"
      ],
      "execution_count": 54,
      "outputs": [
        {
          "output_type": "stream",
          "text": [
            "Collecting catboost\n",
            "  Downloading catboost-0.26.1-cp37-none-manylinux1_x86_64.whl (67.4 MB)\n",
            "\u001b[K     |████████████████████████████████| 67.4 MB 29 kB/s \n",
            "\u001b[?25hRequirement already satisfied: pandas>=0.24.0 in /usr/local/lib/python3.7/dist-packages (from catboost) (1.1.5)\n",
            "Requirement already satisfied: six in /usr/local/lib/python3.7/dist-packages (from catboost) (1.15.0)\n",
            "Requirement already satisfied: graphviz in /usr/local/lib/python3.7/dist-packages (from catboost) (0.10.1)\n",
            "Requirement already satisfied: matplotlib in /usr/local/lib/python3.7/dist-packages (from catboost) (3.2.2)\n",
            "Requirement already satisfied: plotly in /usr/local/lib/python3.7/dist-packages (from catboost) (4.4.1)\n",
            "Requirement already satisfied: numpy>=1.16.0 in /usr/local/lib/python3.7/dist-packages (from catboost) (1.19.5)\n",
            "Requirement already satisfied: scipy in /usr/local/lib/python3.7/dist-packages (from catboost) (1.4.1)\n",
            "Requirement already satisfied: python-dateutil>=2.7.3 in /usr/local/lib/python3.7/dist-packages (from pandas>=0.24.0->catboost) (2.8.2)\n",
            "Requirement already satisfied: pytz>=2017.2 in /usr/local/lib/python3.7/dist-packages (from pandas>=0.24.0->catboost) (2018.9)\n",
            "Requirement already satisfied: pyparsing!=2.0.4,!=2.1.2,!=2.1.6,>=2.0.1 in /usr/local/lib/python3.7/dist-packages (from matplotlib->catboost) (2.4.7)\n",
            "Requirement already satisfied: kiwisolver>=1.0.1 in /usr/local/lib/python3.7/dist-packages (from matplotlib->catboost) (1.3.1)\n",
            "Requirement already satisfied: cycler>=0.10 in /usr/local/lib/python3.7/dist-packages (from matplotlib->catboost) (0.10.0)\n",
            "Requirement already satisfied: retrying>=1.3.3 in /usr/local/lib/python3.7/dist-packages (from plotly->catboost) (1.3.3)\n",
            "Installing collected packages: catboost\n",
            "Successfully installed catboost-0.26.1\n"
          ],
          "name": "stdout"
        }
      ]
    },
    {
      "cell_type": "code",
      "metadata": {
        "colab": {
          "base_uri": "https://localhost:8080/"
        },
        "id": "BQEk29XudBCX",
        "outputId": "e4d0149f-603e-4aef-9952-5cdfcf36c895"
      },
      "source": [
        "pip install utils"
      ],
      "execution_count": 55,
      "outputs": [
        {
          "output_type": "stream",
          "text": [
            "Collecting utils\n",
            "  Downloading utils-1.0.1-py2.py3-none-any.whl (21 kB)\n",
            "Installing collected packages: utils\n",
            "Successfully installed utils-1.0.1\n"
          ],
          "name": "stdout"
        }
      ]
    },
    {
      "cell_type": "code",
      "metadata": {
        "id": "DeoWsolQB7Fz"
      },
      "source": [
        "import warnings\n",
        "warnings.filterwarnings('ignore')\n",
        "import pandas as pd\n",
        "import numpy as np\n",
        "import matplotlib.pyplot as plt\n",
        "from sklearn.model_selection import cross_val_score\n",
        "from sklearn.metrics import mean_absolute_error,  make_scorer\n",
        "from xgboost.sklearn import XGBRegressor\n",
        "from lightgbm.sklearn import LGBMRegressor\n",
        "from sklearn.model_selection import train_test_split\n",
        "from sklearn.ensemble import GradientBoostingRegressor\n",
        "import lightgbm as lgb\n",
        "import xgboost as xgb\n",
        "from sklearn.model_selection import GridSearchCV,cross_val_score\n",
        "from sklearn import linear_model"
      ],
      "execution_count": 70,
      "outputs": []
    },
    {
      "cell_type": "code",
      "metadata": {
        "id": "vTSOBcvqgW-J"
      },
      "source": [
        "#定义模型\n",
        "def build_model_gbdt(x_train,y_train):\n",
        "    estimator =GradientBoostingRegressor(loss='ls',subsample= 0.85,max_depth= 5,n_estimators = 100)\n",
        "    param_grid = { \n",
        "            # 'learning_rate': [0.05,0.08,0.1,0.2],\n",
        "            'learning_rate': [0.05],\n",
        "            }\n",
        "    gbdt = GridSearchCV(estimator, param_grid,cv=3)\n",
        "    gbdt.fit(x_train,y_train)\n",
        "    print(gbdt.best_params_)\n",
        "    # print(gbdt.best_estimator_ )\n",
        "    return gbdt\n",
        "\n",
        "def build_model_xgb(x_train,y_train):\n",
        "    model = xgb.XGBRegressor(n_estimators=120, learning_rate=0.08, gamma=0, subsample=0.8,\\\n",
        "        colsample_bytree=0.9, max_depth=5) #, objective ='reg:squarederror'\n",
        "    model.fit(x_train, y_train)\n",
        "    return model\n",
        "\n",
        "def build_model_lgb(x_train,y_train):\n",
        "    estimator = lgb.LGBMRegressor(n_estimators = 100)\n",
        "    param_grid = {\n",
        "        # 'num_leaves':[6,31,256],\n",
        "        'learning_rate': [0.06,0.0075,0.003],\n",
        "        'boosting':['goss'],\n",
        "        'num_leaves':[6],\n",
        "        'learning_rate': [0.0075],\n",
        "        'num_round': [3000], \n",
        "    }\n",
        "    gbm = GridSearchCV(estimator, param_grid)\n",
        "    gbm.fit(x_train, y_train)\n",
        "    return gbm\n",
        "\n",
        "def build_model_lr(x_train,y_train):\n",
        "    reg_model = linear_model.LinearRegression()\n",
        "    reg_model.fit(x_train,y_train)\n",
        "    return reg_model"
      ],
      "execution_count": 71,
      "outputs": []
    },
    {
      "cell_type": "code",
      "metadata": {
        "colab": {
          "base_uri": "https://localhost:8080/"
        },
        "id": "RuAKFTfDnikL",
        "outputId": "f4ec73e6-95fb-48fc-8b1b-2718af13c7c1"
      },
      "source": [
        "#数据处理\n",
        "# 重新读取，前面代码多加了一列\n",
        "import pandas as pd\n",
        "train = pd.read_csv(path+\"/train_final.csv\", engine='python')\n",
        "test = pd.read_csv(path+\"/test_final.csv\", engine='python')\n",
        "train_new = train.sample(frac=1)\n",
        "# train_new.to_csv(\"train_new.csv\", index=False)\n",
        "# 正确的应该是146\n",
        "len(train_new.columns.to_list())\n"
      ],
      "execution_count": 73,
      "outputs": [
        {
          "output_type": "execute_result",
          "data": {
            "text/plain": [
              "146"
            ]
          },
          "metadata": {},
          "execution_count": 73
        }
      ]
    },
    {
      "cell_type": "code",
      "metadata": {
        "colab": {
          "base_uri": "https://localhost:8080/"
        },
        "id": "AvS_3AuRoE5N",
        "outputId": "eafc038a-5165-49bc-d114-6cf63dbc9925"
      },
      "source": [
        "# 下面开始加变量\n",
        "# 合并（把train和test一起加一列，一起做了，不然要做2次，最后拆开就好了）\n",
        "TRAIN_INDEX = train_new.shape[0]\n",
        "TEST_INDEX = test.shape[0] + TRAIN_INDEX\n",
        "# 添加变量\n",
        "data = pd.concat([train_new, test], axis=0)\n",
        "temp = data['continuous_last_fico_range_high'].value_counts().to_dict()\n",
        "print(temp)\n",
        "data['continuous_last_fico_range_high_couts'] = data['continuous_last_fico_range_high'].map(temp)\n",
        "# 拆开\n",
        "train_add = data.iloc[0:TRAIN_INDEX, :]\n",
        "test_add = data.iloc[TRAIN_INDEX:TEST_INDEX, :]\n",
        "train_add.shape"
      ],
      "execution_count": 74,
      "outputs": [
        {
          "output_type": "stream",
          "text": [
            "{694.0: 3133, 704.0: 3105, 719.0: 3092, 724.0: 3086, 709.0: 3080, 689.0: 3033, 699.0: 3017, 684.0: 3006, 714.0: 2999, 734.0: 2681, 499.0: 2656, 729.0: 2653, 679.0: 2612, 674.0: 2437, 739.0: 2268, 669.0: 2231, 744.0: 2221, 664.0: 2024, 754.0: 1879, 749.0: 1821, 659.0: 1699, 759.0: 1692, 654.0: 1565, 769.0: 1517, 764.0: 1473, 649.0: 1347, 779.0: 1346, 644.0: 1293, 774.0: 1270, 784.0: 1204, 634.0: 1179, 554.0: 1086, 639.0: 1086, 789.0: 1079, 574.0: 1055, 564.0: 1052, 544.0: 1043, 794.0: 1038, 559.0: 1037, 584.0: 1025, 624.0: 1014, 579.0: 1014, 569.0: 1001, 614.0: 974, 539.0: 956, 534.0: 935, 549.0: 931, 629.0: 921, 594.0: 917, 609.0: 916, 604.0: 915, 599.0: 906, 799.0: 904, 589.0: 883, 619.0: 866, 804.0: 840, 524.0: 821, 529.0: 801, 809.0: 720, 519.0: 715, 514.0: 673, 509.0: 604, 814.0: 590, 504.0: 562, 819.0: 542, 824.0: 340, 829.0: 272, 834.0: 179, 839.0: 87, 844.0: 52, 850.0: 23, 0.0: 6}\n"
          ],
          "name": "stdout"
        },
        {
          "output_type": "execute_result",
          "data": {
            "text/plain": [
              "(50000, 147)"
            ]
          },
          "metadata": {},
          "execution_count": 74
        }
      ]
    },
    {
      "cell_type": "code",
      "metadata": {
        "colab": {
          "base_uri": "https://localhost:8080/"
        },
        "id": "sLm23WzIoL3R",
        "outputId": "604853ed-ccdf-4ec4-a2ac-4d82f10dd565"
      },
      "source": [
        "test_add.shape"
      ],
      "execution_count": 75,
      "outputs": [
        {
          "output_type": "execute_result",
          "data": {
            "text/plain": [
              "(50000, 147)"
            ]
          },
          "metadata": {},
          "execution_count": 75
        }
      ]
    },
    {
      "cell_type": "code",
      "metadata": {
        "id": "U9cyqJ4QgiFC"
      },
      "source": [
        "# X_data = Train_data.drop('price', axis=1) #删除列\n",
        "X_data = train_add.drop(columns='loan_status')\n",
        "Y_data = train_add['loan_status']\n",
        "X_test  = test_add.drop(columns='loan_status')\n",
        "#交叉验证\n",
        "#划分训练集和测试集\n",
        "X_data=pd.DataFrame(X_data).fillna(-1)\n",
        "Y_data=pd.DataFrame(Y_data).fillna(-1)\n",
        "X_test=pd.DataFrame(X_test).fillna(-1)\n",
        "# x_train,x_val,y_train,y_val = train_test_split(X_data,Y_data,test_size=0.3)\n",
        "x_train = X_data\n",
        "x_val = X_test\n",
        "y_train =Y_data\n",
        "y_val = test_add['loan_status']"
      ],
      "execution_count": 76,
      "outputs": []
    },
    {
      "cell_type": "code",
      "metadata": {
        "colab": {
          "base_uri": "https://localhost:8080/"
        },
        "id": "VdBsaFm7naa4",
        "outputId": "258b7454-a6b1-41e8-fc8d-cea9b2ad719b"
      },
      "source": [
        "#训练模型\n",
        "print('Predict GBDT...')\n",
        "model_gbdt = build_model_gbdt(x_train,y_train)\n",
        "val_gbdt = model_gbdt.predict(x_val)\n",
        "subA_gbdt = model_gbdt.predict(X_test)"
      ],
      "execution_count": 77,
      "outputs": [
        {
          "output_type": "stream",
          "text": [
            "Predict GBDT...\n",
            "{'learning_rate': 0.05}\n"
          ],
          "name": "stdout"
        }
      ]
    },
    {
      "cell_type": "code",
      "metadata": {
        "colab": {
          "base_uri": "https://localhost:8080/"
        },
        "id": "fl-HqxKymkVk",
        "outputId": "5775804e-1f7b-4bd6-bea1-31ce1a14dd82"
      },
      "source": [
        "print('predict XGB...')\n",
        "model_xgb = build_model_xgb(x_train,y_train)\n",
        "val_xgb = model_xgb.predict(x_val)\n",
        "subA_xgb = model_xgb.predict(X_test)"
      ],
      "execution_count": 78,
      "outputs": [
        {
          "output_type": "stream",
          "text": [
            "predict XGB...\n",
            "[08:46:29] WARNING: /workspace/src/objective/regression_obj.cu:152: reg:linear is now deprecated in favor of reg:squarederror.\n"
          ],
          "name": "stdout"
        }
      ]
    },
    {
      "cell_type": "code",
      "metadata": {
        "colab": {
          "base_uri": "https://localhost:8080/"
        },
        "id": "cIiwYwKImmyj",
        "outputId": "a2250ae9-b87d-4b9e-d76b-827724afea1f"
      },
      "source": [
        "print('predict lgb...')\n",
        "model_lgb = build_model_lgb(x_train,y_train)\n",
        "val_lgb = model_lgb.predict(x_val)\n",
        "subA_lgb = model_lgb.predict(X_test)"
      ],
      "execution_count": 79,
      "outputs": [
        {
          "output_type": "stream",
          "text": [
            "predict lgb...\n"
          ],
          "name": "stdout"
        }
      ]
    },
    {
      "cell_type": "code",
      "metadata": {
        "colab": {
          "base_uri": "https://localhost:8080/"
        },
        "id": "YC1fGJP5uIlV",
        "outputId": "a09b5148-62d5-4be5-99eb-9418c2cb0f92"
      },
      "source": [
        "model_lgb.best_params_"
      ],
      "execution_count": 80,
      "outputs": [
        {
          "output_type": "execute_result",
          "data": {
            "text/plain": [
              "{'boosting': 'goss',\n",
              " 'learning_rate': 0.0075,\n",
              " 'num_leaves': 6,\n",
              " 'num_round': 3000}"
            ]
          },
          "metadata": {},
          "execution_count": 80
        }
      ]
    },
    {
      "cell_type": "code",
      "metadata": {
        "id": "ho1Njd-MglT3"
      },
      "source": [
        "#Starking\n",
        "#第一层\n",
        "train_lgb_pred = model_lgb.predict(x_train)\n",
        "train_xgb_pred = model_xgb.predict(x_train)\n",
        "train_gbdt_pred = model_gbdt.predict(x_train)\n",
        "\n",
        "Strak_X_train = pd.DataFrame()\n",
        "Strak_X_train['Method_1'] = train_lgb_pred\n",
        "Strak_X_train['Method_2'] = train_xgb_pred\n",
        "Strak_X_train['Method_3'] = train_gbdt_pred\n",
        "\n",
        "Strak_X_val = pd.DataFrame()\n",
        "Strak_X_val['Method_1'] = val_lgb\n",
        "Strak_X_val['Method_2'] = val_xgb\n",
        "Strak_X_val['Method_3'] = val_gbdt\n",
        "\n",
        "Strak_X_test = pd.DataFrame()\n",
        "Strak_X_test['Method_1'] = subA_lgb\n",
        "Strak_X_test['Method_2'] = subA_xgb\n",
        "Strak_X_test['Method_3'] = subA_gbdt"
      ],
      "execution_count": 81,
      "outputs": []
    },
    {
      "cell_type": "code",
      "metadata": {
        "colab": {
          "base_uri": "https://localhost:8080/"
        },
        "id": "KD3Wb-5GugaW",
        "outputId": "a0edaf6d-8003-4fd5-986b-7a75ca4c6781"
      },
      "source": [
        "#第二层\n",
        "model_lr_Stacking = build_model_lgb(Strak_X_train,y_train)\n",
        "print(\"最佳参数\")\n",
        "print(model_lr_Stacking.best_params_)\n",
        "print(\"训练集\")\n",
        "train_lgb_pred_y = model_lr_Stacking.predict(Strak_X_train)\n",
        "print(1 - accuracy_score(y_train, (train_lgb_pred_y > 0.5).astype(np.int64)))\n",
        "\n",
        "print(\"测试集\")\n",
        "val_pre_Stacking = model_lr_Stacking.predict(Strak_X_val)\n",
        "print(1 - accuracy_score(y_val, (val_pre_Stacking > 0.5).astype(np.int64)))"
      ],
      "execution_count": 82,
      "outputs": [
        {
          "output_type": "stream",
          "text": [
            "最佳参数\n",
            "{'boosting': 'goss', 'learning_rate': 0.0075, 'num_leaves': 6, 'num_round': 3000}\n",
            "训练集\n",
            "0.06601999999999997\n",
            "测试集\n",
            "0.08594000000000002\n"
          ],
          "name": "stdout"
        }
      ]
    },
    {
      "cell_type": "code",
      "metadata": {
        "colab": {
          "base_uri": "https://localhost:8080/"
        },
        "id": "uZDtAudwvAim",
        "outputId": "1285f165-2531-4b4e-8bcb-ead9a068d07b"
      },
      "source": [
        "# 线性\n",
        "#第二层--线性\n",
        "model_lr_Stacking = build_model_lr(Strak_X_train,y_train)\n",
        "\n",
        "#训练集\n",
        "train_pre_Stacking = model_lr_Stacking.predict(Strak_X_train)\n",
        "# print('MAE of Stacking-LR:',mean_absolute_error(y_train,train_pre_Stacking))\n",
        "print(1 - accuracy_score(y_train, (train_pre_Stacking > 0.5).astype(np.int64)))\n",
        "\n",
        "#验证集\n",
        "val_pre_Stacking = model_lr_Stacking.predict(Strak_X_val)\n",
        "# print('MAE of Stacking-LR:',mean_absolute_error(y_val,val_pre_Stacking))\n",
        "print(1 - accuracy_score(y_val, (val_pre_Stacking > 0.5).astype(np.int64)))\n",
        "\n",
        "#预测集\n",
        "# print('Predict Stacking-LR...')\n",
        "# subA_Stacking = model_lr_Stacking.predict(Strak_X_test)"
      ],
      "execution_count": 83,
      "outputs": [
        {
          "output_type": "stream",
          "text": [
            "0.06813999999999998\n",
            "0.08464000000000005\n"
          ],
          "name": "stdout"
        }
      ]
    },
    {
      "cell_type": "markdown",
      "metadata": {
        "id": "v6Jzqe6whqst"
      },
      "source": [
        "# Why it doesn't work?\n",
        "---\n",
        "In LigthGBM, the algorithm will automatically create binnings. In this case, since about 10% of the \"loan amount\" is exactly $10000, it will automatically fall into a bin. Therefore, adding the additional data will not work.  "
      ]
    },
    {
      "cell_type": "code",
      "metadata": {
        "id": "Z0O8odv5lzr9"
      },
      "source": [
        "# We can find the most important variables in the following ways.\n",
        "features = train_new.drop(columns='loan_status').columns.to_list()\n",
        "importance = models[0].feature_importance(importance_type = 'gain')\n",
        "# print(importance)\n",
        "feautre_importance = sorted(zip(features, importance), key = lambda x : x[1], reverse=True)\n",
        "print(feautre_importance)"
      ],
      "execution_count": null,
      "outputs": []
    },
    {
      "cell_type": "markdown",
      "metadata": {
        "id": "BAgbwvByjD0a"
      },
      "source": [
        "# SHAP and force plots\n",
        "---\n",
        "In this code snippet, we demonstrate the process of using SHAP values and force plots to examine the cause of bad cases. Additional information can be found [here](https://shap.readthedocs.io/en/latest/example_notebooks/tabular_examples/tree_based_models/Census%20income%20classification%20with%20LightGBM.html)."
      ]
    },
    {
      "cell_type": "code",
      "metadata": {
        "colab": {
          "base_uri": "https://localhost:8080/"
        },
        "id": "DV3qmnFRjk4b",
        "outputId": "2d65e5d7-b436-4a41-a02f-b73dda4801b0"
      },
      "source": [
        "!pip install shap"
      ],
      "execution_count": null,
      "outputs": [
        {
          "name": "stdout",
          "output_type": "stream",
          "text": [
            "Collecting shap\n",
            "  Downloading shap-0.39.0.tar.gz (356 kB)\n",
            "\u001b[?25l\r\u001b[K     |█                               | 10 kB 11.9 MB/s eta 0:00:01\r\u001b[K     |█▉                              | 20 kB 18.3 MB/s eta 0:00:01\r\u001b[K     |██▊                             | 30 kB 20.4 MB/s eta 0:00:01\r\u001b[K     |███▊                            | 40 kB 23.0 MB/s eta 0:00:01\r\u001b[K     |████▋                           | 51 kB 18.7 MB/s eta 0:00:01\r\u001b[K     |█████▌                          | 61 kB 20.5 MB/s eta 0:00:01\r\u001b[K     |██████▍                         | 71 kB 13.4 MB/s eta 0:00:01\r\u001b[K     |███████▍                        | 81 kB 14.7 MB/s eta 0:00:01\r\u001b[K     |████████▎                       | 92 kB 14.4 MB/s eta 0:00:01\r\u001b[K     |█████████▏                      | 102 kB 15.5 MB/s eta 0:00:01\r\u001b[K     |██████████▏                     | 112 kB 15.5 MB/s eta 0:00:01\r\u001b[K     |███████████                     | 122 kB 15.5 MB/s eta 0:00:01\r\u001b[K     |████████████                    | 133 kB 15.5 MB/s eta 0:00:01\r\u001b[K     |████████████▉                   | 143 kB 15.5 MB/s eta 0:00:01\r\u001b[K     |█████████████▉                  | 153 kB 15.5 MB/s eta 0:00:01\r\u001b[K     |██████████████▊                 | 163 kB 15.5 MB/s eta 0:00:01\r\u001b[K     |███████████████▋                | 174 kB 15.5 MB/s eta 0:00:01\r\u001b[K     |████████████████▋               | 184 kB 15.5 MB/s eta 0:00:01\r\u001b[K     |█████████████████▌              | 194 kB 15.5 MB/s eta 0:00:01\r\u001b[K     |██████████████████▍             | 204 kB 15.5 MB/s eta 0:00:01\r\u001b[K     |███████████████████▎            | 215 kB 15.5 MB/s eta 0:00:01\r\u001b[K     |████████████████████▎           | 225 kB 15.5 MB/s eta 0:00:01\r\u001b[K     |█████████████████████▏          | 235 kB 15.5 MB/s eta 0:00:01\r\u001b[K     |██████████████████████          | 245 kB 15.5 MB/s eta 0:00:01\r\u001b[K     |███████████████████████         | 256 kB 15.5 MB/s eta 0:00:01\r\u001b[K     |████████████████████████        | 266 kB 15.5 MB/s eta 0:00:01\r\u001b[K     |████████████████████████▉       | 276 kB 15.5 MB/s eta 0:00:01\r\u001b[K     |█████████████████████████▊      | 286 kB 15.5 MB/s eta 0:00:01\r\u001b[K     |██████████████████████████▊     | 296 kB 15.5 MB/s eta 0:00:01\r\u001b[K     |███████████████████████████▋    | 307 kB 15.5 MB/s eta 0:00:01\r\u001b[K     |████████████████████████████▌   | 317 kB 15.5 MB/s eta 0:00:01\r\u001b[K     |█████████████████████████████▍  | 327 kB 15.5 MB/s eta 0:00:01\r\u001b[K     |██████████████████████████████▍ | 337 kB 15.5 MB/s eta 0:00:01\r\u001b[K     |███████████████████████████████▎| 348 kB 15.5 MB/s eta 0:00:01\r\u001b[K     |████████████████████████████████| 356 kB 15.5 MB/s \n",
            "\u001b[?25hRequirement already satisfied: numpy in /usr/local/lib/python3.7/dist-packages (from shap) (1.19.5)\n",
            "Requirement already satisfied: scipy in /usr/local/lib/python3.7/dist-packages (from shap) (1.4.1)\n",
            "Requirement already satisfied: scikit-learn in /usr/local/lib/python3.7/dist-packages (from shap) (0.22.2.post1)\n",
            "Requirement already satisfied: pandas in /usr/local/lib/python3.7/dist-packages (from shap) (1.1.5)\n",
            "Requirement already satisfied: tqdm>4.25.0 in /usr/local/lib/python3.7/dist-packages (from shap) (4.62.0)\n",
            "Collecting slicer==0.0.7\n",
            "  Downloading slicer-0.0.7-py3-none-any.whl (14 kB)\n",
            "Requirement already satisfied: numba in /usr/local/lib/python3.7/dist-packages (from shap) (0.51.2)\n",
            "Requirement already satisfied: cloudpickle in /usr/local/lib/python3.7/dist-packages (from shap) (1.3.0)\n",
            "Requirement already satisfied: setuptools in /usr/local/lib/python3.7/dist-packages (from numba->shap) (57.4.0)\n",
            "Requirement already satisfied: llvmlite<0.35,>=0.34.0.dev0 in /usr/local/lib/python3.7/dist-packages (from numba->shap) (0.34.0)\n",
            "Requirement already satisfied: pytz>=2017.2 in /usr/local/lib/python3.7/dist-packages (from pandas->shap) (2018.9)\n",
            "Requirement already satisfied: python-dateutil>=2.7.3 in /usr/local/lib/python3.7/dist-packages (from pandas->shap) (2.8.2)\n",
            "Requirement already satisfied: six>=1.5 in /usr/local/lib/python3.7/dist-packages (from python-dateutil>=2.7.3->pandas->shap) (1.15.0)\n",
            "Requirement already satisfied: joblib>=0.11 in /usr/local/lib/python3.7/dist-packages (from scikit-learn->shap) (1.0.1)\n",
            "Building wheels for collected packages: shap\n",
            "  Building wheel for shap (setup.py) ... \u001b[?25l\u001b[?25hdone\n",
            "  Created wheel for shap: filename=shap-0.39.0-cp37-cp37m-linux_x86_64.whl size=491650 sha256=d1f93269ce7bcb3c2aabce9cde98c9caa048b596edbb5b5c95e8abadeb0cd1bc\n",
            "  Stored in directory: /root/.cache/pip/wheels/ca/25/8f/6ae5df62c32651cd719e972e738a8aaa4a87414c4d2b14c9c0\n",
            "Successfully built shap\n",
            "Installing collected packages: slicer, shap\n",
            "Successfully installed shap-0.39.0 slicer-0.0.7\n"
          ]
        }
      ]
    },
    {
      "cell_type": "code",
      "metadata": {
        "colab": {
          "base_uri": "https://localhost:8080/",
          "height": 326
        },
        "id": "rzF7Z15BkfG9",
        "outputId": "a7e9ec4e-cfbe-48d9-a785-a60a990ec5e2"
      },
      "source": [
        "import shap\n",
        "explainer = shap.TreeExplainer(models[0])\n",
        "shap_values = explainer.shap_values(train_add.drop(columns='loan_status')) # This will take some time"
      ],
      "execution_count": null,
      "outputs": [
        {
          "ename": "KeyError",
          "evalue": "ignored",
          "output_type": "error",
          "traceback": [
            "\u001b[0;31m---------------------------------------------------------------------------\u001b[0m",
            "\u001b[0;31mKeyError\u001b[0m                                  Traceback (most recent call last)",
            "\u001b[0;32m<ipython-input-109-b98ea63cd8bb>\u001b[0m in \u001b[0;36m<module>\u001b[0;34m()\u001b[0m\n\u001b[1;32m      1\u001b[0m \u001b[0;32mimport\u001b[0m \u001b[0mshap\u001b[0m\u001b[0;34m\u001b[0m\u001b[0;34m\u001b[0m\u001b[0m\n\u001b[1;32m      2\u001b[0m \u001b[0mexplainer\u001b[0m \u001b[0;34m=\u001b[0m \u001b[0mshap\u001b[0m\u001b[0;34m.\u001b[0m\u001b[0mTreeExplainer\u001b[0m\u001b[0;34m(\u001b[0m\u001b[0mmodels\u001b[0m\u001b[0;34m[\u001b[0m\u001b[0;36m0\u001b[0m\u001b[0;34m]\u001b[0m\u001b[0;34m)\u001b[0m\u001b[0;34m\u001b[0m\u001b[0;34m\u001b[0m\u001b[0m\n\u001b[0;32m----> 3\u001b[0;31m \u001b[0mshap_values\u001b[0m \u001b[0;34m=\u001b[0m \u001b[0mexplainer\u001b[0m\u001b[0;34m.\u001b[0m\u001b[0mshap_values\u001b[0m\u001b[0;34m(\u001b[0m\u001b[0mtrain_add\u001b[0m\u001b[0;34m.\u001b[0m\u001b[0mdrop\u001b[0m\u001b[0;34m(\u001b[0m\u001b[0mcolumns\u001b[0m\u001b[0;34m=\u001b[0m\u001b[0;34m'loan_status'\u001b[0m\u001b[0;34m)\u001b[0m\u001b[0;34m)\u001b[0m \u001b[0;31m# This will take some time\u001b[0m\u001b[0;34m\u001b[0m\u001b[0;34m\u001b[0m\u001b[0m\n\u001b[0m",
            "\u001b[0;32m/usr/local/lib/python3.7/dist-packages/shap/explainers/_tree.py\u001b[0m in \u001b[0;36mshap_values\u001b[0;34m(self, X, y, tree_limit, approximate, check_additivity, from_call)\u001b[0m\n\u001b[1;32m    345\u001b[0m                 \u001b[0mphi\u001b[0m \u001b[0;34m=\u001b[0m \u001b[0mself\u001b[0m\u001b[0;34m.\u001b[0m\u001b[0mmodel\u001b[0m\u001b[0;34m.\u001b[0m\u001b[0moriginal_model\u001b[0m\u001b[0;34m.\u001b[0m\u001b[0mpredict\u001b[0m\u001b[0;34m(\u001b[0m\u001b[0mX\u001b[0m\u001b[0;34m,\u001b[0m \u001b[0mnum_iteration\u001b[0m\u001b[0;34m=\u001b[0m\u001b[0mtree_limit\u001b[0m\u001b[0;34m,\u001b[0m \u001b[0mpred_contrib\u001b[0m\u001b[0;34m=\u001b[0m\u001b[0;32mTrue\u001b[0m\u001b[0;34m)\u001b[0m\u001b[0;34m\u001b[0m\u001b[0;34m\u001b[0m\u001b[0m\n\u001b[1;32m    346\u001b[0m                 \u001b[0;31m# Note: the data must be joined on the last axis\u001b[0m\u001b[0;34m\u001b[0m\u001b[0;34m\u001b[0m\u001b[0;34m\u001b[0m\u001b[0m\n\u001b[0;32m--> 347\u001b[0;31m                 \u001b[0;32mif\u001b[0m \u001b[0mself\u001b[0m\u001b[0;34m.\u001b[0m\u001b[0mmodel\u001b[0m\u001b[0;34m.\u001b[0m\u001b[0moriginal_model\u001b[0m\u001b[0;34m.\u001b[0m\u001b[0mparams\u001b[0m\u001b[0;34m[\u001b[0m\u001b[0;34m'objective'\u001b[0m\u001b[0;34m]\u001b[0m \u001b[0;34m==\u001b[0m \u001b[0;34m'binary'\u001b[0m\u001b[0;34m:\u001b[0m\u001b[0;34m\u001b[0m\u001b[0;34m\u001b[0m\u001b[0m\n\u001b[0m\u001b[1;32m    348\u001b[0m                     \u001b[0;32mif\u001b[0m \u001b[0;32mnot\u001b[0m \u001b[0mfrom_call\u001b[0m\u001b[0;34m:\u001b[0m\u001b[0;34m\u001b[0m\u001b[0;34m\u001b[0m\u001b[0m\n\u001b[1;32m    349\u001b[0m                         \u001b[0mwarnings\u001b[0m\u001b[0;34m.\u001b[0m\u001b[0mwarn\u001b[0m\u001b[0;34m(\u001b[0m\u001b[0;34m'LightGBM binary classifier with TreeExplainer shap values output has changed to a list of ndarray'\u001b[0m\u001b[0;34m)\u001b[0m\u001b[0;34m\u001b[0m\u001b[0;34m\u001b[0m\u001b[0m\n",
            "\u001b[0;31mKeyError\u001b[0m: 'objective'"
          ]
        }
      ]
    },
    {
      "cell_type": "code",
      "metadata": {
        "id": "fPCErXLp5YsD"
      },
      "source": [
        ""
      ],
      "execution_count": null,
      "outputs": []
    },
    {
      "cell_type": "code",
      "metadata": {
        "id": "3Af8BlxIlas2"
      },
      "source": [
        "x = train_add.drop(columns='loan_status')\n",
        "shap.force_plot(explainer.expected_value[1], shap_values[1][0,:], x.iloc[0,:])\n"
      ],
      "execution_count": null,
      "outputs": []
    },
    {
      "cell_type": "markdown",
      "metadata": {
        "id": "E3VvpUDTeuZg"
      },
      "source": [
        "# Learning a Bayesian Network\n",
        "---\n",
        "This small example demonstrates how to create a Bayesian Network using R. Pay attention that it is usually desirable to input discretized data! "
      ]
    },
    {
      "cell_type": "code",
      "metadata": {
        "id": "oEaFMU24cPo7"
      },
      "source": [
        "%load_ext rpy2.ipython"
      ],
      "execution_count": null,
      "outputs": []
    },
    {
      "cell_type": "code",
      "metadata": {
        "colab": {
          "base_uri": "https://localhost:8080/"
        },
        "id": "0RWfNi0ecS5i",
        "outputId": "d585438d-754f-4a33-eb8b-c4dff77b5973"
      },
      "source": [
        "%%R\n",
        "install.packages(\"bnlearn\")"
      ],
      "execution_count": null,
      "outputs": [
        {
          "name": "stderr",
          "output_type": "stream",
          "text": [
            "R[write to console]: Installing package into ‘/usr/local/lib/R/site-library’\n",
            "(as ‘lib’ is unspecified)\n",
            "\n",
            "R[write to console]: trying URL 'https://cran.rstudio.com/src/contrib/bnlearn_4.6.1.tar.gz'\n",
            "\n",
            "R[write to console]: Content type 'application/x-gzip'\n",
            "R[write to console]:  length 1287342 bytes (1.2 MB)\n",
            "\n",
            "R[write to console]: =\n",
            "R[write to console]: =\n",
            "R[write to console]: =\n",
            "R[write to console]: =\n",
            "R[write to console]: =\n",
            "R[write to console]: =\n",
            "R[write to console]: =\n",
            "R[write to console]: =\n",
            "R[write to console]: =\n",
            "R[write to console]: =\n",
            "R[write to console]: =\n",
            "R[write to console]: =\n",
            "R[write to console]: =\n",
            "R[write to console]: =\n",
            "R[write to console]: =\n",
            "R[write to console]: =\n",
            "R[write to console]: =\n",
            "R[write to console]: =\n",
            "R[write to console]: =\n",
            "R[write to console]: =\n",
            "R[write to console]: =\n",
            "R[write to console]: =\n",
            "R[write to console]: =\n",
            "R[write to console]: =\n",
            "R[write to console]: =\n",
            "R[write to console]: =\n",
            "R[write to console]: =\n",
            "R[write to console]: =\n",
            "R[write to console]: =\n",
            "R[write to console]: =\n",
            "R[write to console]: =\n",
            "R[write to console]: =\n",
            "R[write to console]: =\n",
            "R[write to console]: =\n",
            "R[write to console]: =\n",
            "R[write to console]: =\n",
            "R[write to console]: =\n",
            "R[write to console]: =\n",
            "R[write to console]: =\n",
            "R[write to console]: =\n",
            "R[write to console]: =\n",
            "R[write to console]: =\n",
            "R[write to console]: =\n",
            "R[write to console]: =\n",
            "R[write to console]: =\n",
            "R[write to console]: =\n",
            "R[write to console]: =\n",
            "R[write to console]: =\n",
            "R[write to console]: =\n",
            "R[write to console]: =\n",
            "R[write to console]: \n",
            "\n",
            "R[write to console]: downloaded 1.2 MB\n",
            "\n",
            "\n",
            "R[write to console]: \n",
            "\n",
            "R[write to console]: \n",
            "R[write to console]: The downloaded source packages are in\n",
            "\t‘/tmp/Rtmp4RHy1S/downloaded_packages’\n",
            "R[write to console]: \n",
            "R[write to console]: \n",
            "\n"
          ]
        }
      ]
    },
    {
      "cell_type": "code",
      "metadata": {
        "id": "ziXd29IXchw2"
      },
      "source": [
        "%%R\n",
        "library(bnlearn)"
      ],
      "execution_count": null,
      "outputs": []
    },
    {
      "cell_type": "code",
      "metadata": {
        "id": "x8KmSpQpdEkf"
      },
      "source": [
        "%%R\n",
        "data(marks)"
      ],
      "execution_count": null,
      "outputs": []
    },
    {
      "cell_type": "code",
      "metadata": {
        "colab": {
          "base_uri": "https://localhost:8080/"
        },
        "id": "tex3LJage5Zv",
        "outputId": "ba28ce74-f0ed-4e1e-fe29-49784e718738"
      },
      "source": [
        "%%R\n",
        "summary(marks)"
      ],
      "execution_count": null,
      "outputs": [
        {
          "name": "stdout",
          "output_type": "stream",
          "text": [
            "      MECH            VECT            ALG             ANL       \n",
            " Min.   : 0.00   Min.   : 9.00   Min.   :15.00   Min.   : 9.00  \n",
            " 1st Qu.:30.00   1st Qu.:42.00   1st Qu.:45.00   1st Qu.:35.75  \n",
            " Median :41.50   Median :51.00   Median :50.00   Median :49.00  \n",
            " Mean   :38.95   Mean   :50.59   Mean   :50.60   Mean   :46.68  \n",
            " 3rd Qu.:49.25   3rd Qu.:60.00   3rd Qu.:57.25   3rd Qu.:57.00  \n",
            " Max.   :77.00   Max.   :82.00   Max.   :80.00   Max.   :70.00  \n",
            "      STAT      \n",
            " Min.   : 9.00  \n",
            " 1st Qu.:31.00  \n",
            " Median :40.00  \n",
            " Mean   :42.31  \n",
            " 3rd Qu.:51.50  \n",
            " Max.   :81.00  \n"
          ]
        }
      ]
    },
    {
      "cell_type": "code",
      "metadata": {
        "id": "rGwgxHjAe9Gz"
      },
      "source": [
        "%%R\n",
        "bn.gs = gs(marks)"
      ],
      "execution_count": null,
      "outputs": []
    },
    {
      "cell_type": "code",
      "metadata": {
        "colab": {
          "base_uri": "https://localhost:8080/"
        },
        "id": "CElHBKqbftJU",
        "outputId": "2296fc1a-e365-4bc3-c0cb-a3579325f432"
      },
      "source": [
        "%%R\n",
        "bn.gs"
      ],
      "execution_count": null,
      "outputs": [
        {
          "name": "stdout",
          "output_type": "stream",
          "text": [
            "\n",
            "  Bayesian network learned via Constraint-based methods\n",
            "\n",
            "  model:\n",
            "    [undirected graph]\n",
            "  nodes:                                 5 \n",
            "  arcs:                                  6 \n",
            "    undirected arcs:                     6 \n",
            "    directed arcs:                       0 \n",
            "  average markov blanket size:           2.40 \n",
            "  average neighbourhood size:            2.40 \n",
            "  average branching factor:              0.00 \n",
            "\n",
            "  learning algorithm:                    Grow-Shrink \n",
            "  conditional independence test:         Pearson's Correlation \n",
            "  alpha threshold:                       0.05 \n",
            "  tests used in the learning procedure:  80 \n",
            "\n"
          ]
        }
      ]
    },
    {
      "cell_type": "code",
      "metadata": {
        "colab": {
          "base_uri": "https://localhost:8080/",
          "height": 497
        },
        "id": "TjoqRrDGfuAr",
        "outputId": "58c478cd-62ca-4f99-834c-74097415c92d"
      },
      "source": [
        "%%R\n",
        "plot(bn.gs)"
      ],
      "execution_count": null,
      "outputs": [
        {
          "data": {
            "image/png": "[encoded data removed]"
          },
          "metadata": {},
          "output_type": "display_data"
        }
      ]
    }
  ]
}